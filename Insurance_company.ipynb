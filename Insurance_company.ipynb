{
 "cells": [
  {
   "cell_type": "markdown",
   "id": "7aa348da-db8d-4d6b-af90-1c3368bb7932",
   "metadata": {},
   "source": [
    "### Business goal:\n",
    "\n",
    "Build a logistic regression model that would help in predicting the customers who would be retained."
   ]
  },
  {
   "cell_type": "code",
   "execution_count": 2,
   "id": "534cb6d2-a835-4d7d-8be7-bd41d45f7629",
   "metadata": {},
   "outputs": [],
   "source": [
    "import pandas as pd\n",
    "raw_df = pd.read_excel(\"D:\\Business Analytics\\Important files\\Logistical regression\\insurance.xlsx\")"
   ]
  },
  {
   "cell_type": "code",
   "execution_count": 3,
   "id": "aba42a29-f2ec-4741-89b0-ffb0e2693d05",
   "metadata": {},
   "outputs": [
    {
     "name": "stdout",
     "output_type": "stream",
     "text": [
      "<class 'pandas.core.frame.DataFrame'>\n",
      "RangeIndex: 2000 entries, 0 to 1999\n",
      "Data columns (total 10 columns):\n",
      " #   Column                     Non-Null Count  Dtype  \n",
      "---  ------                     --------------  -----  \n",
      " 0   PolID                      2000 non-null   int64  \n",
      " 1   gender                     2000 non-null   int64  \n",
      " 2   Age_client                 2000 non-null   int64  \n",
      " 3   age_of_car_M               2000 non-null   int64  \n",
      " 4   Client_Seniority           2000 non-null   float64\n",
      " 5   Insuredcapital_content_re  2000 non-null   float64\n",
      " 6   num_policiesC              2000 non-null   int64  \n",
      " 7   metro_code                 2000 non-null   int64  \n",
      " 8   apartment                  2000 non-null   int64  \n",
      " 9   Retention                  2000 non-null   int64  \n",
      "dtypes: float64(2), int64(8)\n",
      "memory usage: 156.4 KB\n"
     ]
    }
   ],
   "source": [
    "raw_df.info()"
   ]
  },
  {
   "cell_type": "code",
   "execution_count": 4,
   "id": "70d5659e-c9eb-4068-adea-dc6646f240c5",
   "metadata": {},
   "outputs": [
    {
     "data": {
      "text/html": [
       "<div>\n",
       "<style scoped>\n",
       "    .dataframe tbody tr th:only-of-type {\n",
       "        vertical-align: middle;\n",
       "    }\n",
       "\n",
       "    .dataframe tbody tr th {\n",
       "        vertical-align: top;\n",
       "    }\n",
       "\n",
       "    .dataframe thead th {\n",
       "        text-align: right;\n",
       "    }\n",
       "</style>\n",
       "<table border=\"1\" class=\"dataframe\">\n",
       "  <thead>\n",
       "    <tr style=\"text-align: right;\">\n",
       "      <th></th>\n",
       "      <th>PolID</th>\n",
       "      <th>gender</th>\n",
       "      <th>Age_client</th>\n",
       "      <th>age_of_car_M</th>\n",
       "      <th>Client_Seniority</th>\n",
       "      <th>Insuredcapital_content_re</th>\n",
       "      <th>num_policiesC</th>\n",
       "      <th>metro_code</th>\n",
       "      <th>apartment</th>\n",
       "      <th>Retention</th>\n",
       "    </tr>\n",
       "  </thead>\n",
       "  <tbody>\n",
       "    <tr>\n",
       "      <th>0</th>\n",
       "      <td>54</td>\n",
       "      <td>1</td>\n",
       "      <td>71</td>\n",
       "      <td>14</td>\n",
       "      <td>12.84330</td>\n",
       "      <td>9.77588</td>\n",
       "      <td>1</td>\n",
       "      <td>0</td>\n",
       "      <td>1</td>\n",
       "      <td>1</td>\n",
       "    </tr>\n",
       "    <tr>\n",
       "      <th>1</th>\n",
       "      <td>93</td>\n",
       "      <td>1</td>\n",
       "      <td>73</td>\n",
       "      <td>12</td>\n",
       "      <td>7.57016</td>\n",
       "      <td>11.59110</td>\n",
       "      <td>1</td>\n",
       "      <td>1</td>\n",
       "      <td>0</td>\n",
       "      <td>0</td>\n",
       "    </tr>\n",
       "    <tr>\n",
       "      <th>2</th>\n",
       "      <td>222</td>\n",
       "      <td>1</td>\n",
       "      <td>53</td>\n",
       "      <td>0</td>\n",
       "      <td>10.52430</td>\n",
       "      <td>10.48590</td>\n",
       "      <td>0</td>\n",
       "      <td>1</td>\n",
       "      <td>1</td>\n",
       "      <td>1</td>\n",
       "    </tr>\n",
       "  </tbody>\n",
       "</table>\n",
       "</div>"
      ],
      "text/plain": [
       "   PolID  gender  Age_client  age_of_car_M  Client_Seniority  \\\n",
       "0     54       1          71            14          12.84330   \n",
       "1     93       1          73            12           7.57016   \n",
       "2    222       1          53             0          10.52430   \n",
       "\n",
       "   Insuredcapital_content_re  num_policiesC  metro_code  apartment  Retention  \n",
       "0                    9.77588              1           0          1          1  \n",
       "1                   11.59110              1           1          0          0  \n",
       "2                   10.48590              0           1          1          1  "
      ]
     },
     "execution_count": 4,
     "metadata": {},
     "output_type": "execute_result"
    }
   ],
   "source": [
    "raw_df.head(3)"
   ]
  },
  {
   "cell_type": "code",
   "execution_count": 5,
   "id": "3b4efa81-b35b-45d7-9bab-4146ae411222",
   "metadata": {},
   "outputs": [
    {
     "name": "stdout",
     "output_type": "stream",
     "text": [
      "<class 'pandas.core.series.Series'>\n",
      "RangeIndex: 2000 entries, 0 to 1999\n",
      "Series name: Retention\n",
      "Non-Null Count  Dtype   \n",
      "--------------  -----   \n",
      "2000 non-null   category\n",
      "dtypes: category(1)\n",
      "memory usage: 2.2 KB\n",
      "None\n"
     ]
    }
   ],
   "source": [
    "##---------------------------------------\n",
    "## Identify the Class label or Y variable\n",
    "##---------------------------------------\n",
    "Y = raw_df.Retention.astype('category')\n",
    "print(Y.info())"
   ]
  },
  {
   "cell_type": "code",
   "execution_count": 6,
   "id": "9cb61e43-6cbf-4232-ab7e-b0f427452af7",
   "metadata": {},
   "outputs": [
    {
     "data": {
      "text/plain": [
       "0       1\n",
       "1       0\n",
       "2       1\n",
       "3       0\n",
       "4       1\n",
       "       ..\n",
       "1995    0\n",
       "1996    0\n",
       "1997    1\n",
       "1998    0\n",
       "1999    0\n",
       "Name: Retention, Length: 2000, dtype: int64"
      ]
     },
     "execution_count": 6,
     "metadata": {},
     "output_type": "execute_result"
    }
   ],
   "source": [
    "raw_df.Retention"
   ]
  },
  {
   "cell_type": "code",
   "execution_count": 7,
   "id": "3a986de0-0854-4625-8f16-efe840c00fc8",
   "metadata": {},
   "outputs": [],
   "source": [
    "##-----------------------------\n",
    "## Select the Predictor Variables into list called X_features\n",
    "##------------------------------\n",
    "X_features = list(raw_df.columns)\n",
    "# risk is the outcome or Y variable in this step , we are identifying the X variables\n",
    "X_features.remove('PolID')\n",
    "X_features.remove('Retention')"
   ]
  },
  {
   "cell_type": "code",
   "execution_count": 8,
   "id": "a77dfd0d-39c3-4e1a-b360-c80b39ce68fc",
   "metadata": {},
   "outputs": [
    {
     "name": "stdout",
     "output_type": "stream",
     "text": [
      "['gender', 'Age_client', 'age_of_car_M', 'Client_Seniority', 'Insuredcapital_content_re', 'num_policiesC', 'metro_code', 'apartment']\n"
     ]
    }
   ],
   "source": [
    "print(X_features)"
   ]
  },
  {
   "cell_type": "code",
   "execution_count": 9,
   "id": "7e129005-58a6-4109-9353-347ca670fa6d",
   "metadata": {},
   "outputs": [],
   "source": [
    "##------------------------------------------\n",
    "##  Set up a dataframe with only X-variables\n",
    "##------------------------------------------\n",
    "X =  raw_df[X_features]"
   ]
  },
  {
   "cell_type": "code",
   "execution_count": 10,
   "id": "7b9bead0-6c80-4e1b-9020-85c423551c5a",
   "metadata": {},
   "outputs": [
    {
     "name": "stdout",
     "output_type": "stream",
     "text": [
      "<class 'pandas.core.series.Series'>\n",
      "Index: 1400 entries, 958 to 858\n",
      "Series name: Retention\n",
      "Non-Null Count  Dtype   \n",
      "--------------  -----   \n",
      "1400 non-null   category\n",
      "dtypes: category(1)\n",
      "memory usage: 12.4 KB\n",
      "None\n"
     ]
    }
   ],
   "source": [
    "##-----------------------------------------\n",
    "##  Split the Data into Training and Test\n",
    "##  test size=0.3 indicates 70% training and\n",
    "##  30% test data\n",
    "##-----------------------------------------\n",
    "from sklearn.model_selection import train_test_split\n",
    "X_train, X_test, y_train, y_test = train_test_split(X,\n",
    "Y,\n",
    "test_size = 0.3,\n",
    "random_state = 500)\n",
    "print(y_train.info())\n",
    "\n",
    "##############################################################################\n",
    "##  All data processing should be done after split to prevent data leakage  ##\n",
    "##############################################################################"
   ]
  },
  {
   "cell_type": "code",
   "execution_count": 11,
   "id": "c841cbae-6613-47cd-8413-d3c5e14f5c34",
   "metadata": {},
   "outputs": [],
   "source": [
    "##############################################################################\n",
    "##  Pre-process X-vars   ##\n",
    "##############################################################################\n",
    "\n",
    "##-----------------------------------------------------------------------\n",
    "##  1. Identify and dummy code (one-hot encoding) the categorical column\n",
    "##-----------------------------------------------------------------------\n",
    "# List of categorical columns\n",
    "categorical_columns = ['gender','num_policiesC','metro_code','apartment']\n",
    "X_train_encoded = pd.get_dummies(X_train, columns=categorical_columns,drop_first = True,dtype=int )\n",
    "X_test_encoded = pd.get_dummies(X_test, columns=categorical_columns,drop_first = True ,dtype=int)"
   ]
  },
  {
   "cell_type": "code",
   "execution_count": 12,
   "id": "36f97438-61f0-4f1d-925c-1798c994e04a",
   "metadata": {},
   "outputs": [
    {
     "name": "stdout",
     "output_type": "stream",
     "text": [
      "<class 'pandas.core.frame.DataFrame'>\n",
      "Index: 1400 entries, 958 to 858\n",
      "Data columns (total 8 columns):\n",
      " #   Column                     Non-Null Count  Dtype  \n",
      "---  ------                     --------------  -----  \n",
      " 0   Age_client                 1400 non-null   int64  \n",
      " 1   age_of_car_M               1400 non-null   int64  \n",
      " 2   Client_Seniority           1400 non-null   float64\n",
      " 3   Insuredcapital_content_re  1400 non-null   float64\n",
      " 4   gender_1                   1400 non-null   int32  \n",
      " 5   num_policiesC_1            1400 non-null   int32  \n",
      " 6   metro_code_1               1400 non-null   int32  \n",
      " 7   apartment_1                1400 non-null   int32  \n",
      "dtypes: float64(2), int32(4), int64(2)\n",
      "memory usage: 76.6 KB\n"
     ]
    }
   ],
   "source": [
    "X_train_encoded.info()"
   ]
  },
  {
   "cell_type": "code",
   "execution_count": 13,
   "id": "42fed7ea-5b0e-4eea-9adf-02352e6c315c",
   "metadata": {},
   "outputs": [
    {
     "data": {
      "text/html": [
       "<div>\n",
       "<style scoped>\n",
       "    .dataframe tbody tr th:only-of-type {\n",
       "        vertical-align: middle;\n",
       "    }\n",
       "\n",
       "    .dataframe tbody tr th {\n",
       "        vertical-align: top;\n",
       "    }\n",
       "\n",
       "    .dataframe thead th {\n",
       "        text-align: right;\n",
       "    }\n",
       "</style>\n",
       "<table border=\"1\" class=\"dataframe\">\n",
       "  <thead>\n",
       "    <tr style=\"text-align: right;\">\n",
       "      <th></th>\n",
       "      <th>Age_client</th>\n",
       "      <th>age_of_car_M</th>\n",
       "      <th>Client_Seniority</th>\n",
       "      <th>Insuredcapital_content_re</th>\n",
       "      <th>gender_1</th>\n",
       "      <th>num_policiesC_1</th>\n",
       "      <th>metro_code_1</th>\n",
       "      <th>apartment_1</th>\n",
       "    </tr>\n",
       "  </thead>\n",
       "  <tbody>\n",
       "    <tr>\n",
       "      <th>958</th>\n",
       "      <td>55</td>\n",
       "      <td>10</td>\n",
       "      <td>6.14921</td>\n",
       "      <td>10.1329</td>\n",
       "      <td>1</td>\n",
       "      <td>1</td>\n",
       "      <td>0</td>\n",
       "      <td>1</td>\n",
       "    </tr>\n",
       "    <tr>\n",
       "      <th>1313</th>\n",
       "      <td>76</td>\n",
       "      <td>12</td>\n",
       "      <td>5.38809</td>\n",
       "      <td>11.3100</td>\n",
       "      <td>0</td>\n",
       "      <td>1</td>\n",
       "      <td>0</td>\n",
       "      <td>0</td>\n",
       "    </tr>\n",
       "    <tr>\n",
       "      <th>330</th>\n",
       "      <td>51</td>\n",
       "      <td>0</td>\n",
       "      <td>12.05750</td>\n",
       "      <td>10.4334</td>\n",
       "      <td>0</td>\n",
       "      <td>1</td>\n",
       "      <td>0</td>\n",
       "      <td>0</td>\n",
       "    </tr>\n",
       "    <tr>\n",
       "      <th>1923</th>\n",
       "      <td>82</td>\n",
       "      <td>16</td>\n",
       "      <td>11.35390</td>\n",
       "      <td>10.0437</td>\n",
       "      <td>1</td>\n",
       "      <td>1</td>\n",
       "      <td>1</td>\n",
       "      <td>1</td>\n",
       "    </tr>\n",
       "    <tr>\n",
       "      <th>760</th>\n",
       "      <td>56</td>\n",
       "      <td>10</td>\n",
       "      <td>15.44420</td>\n",
       "      <td>10.4458</td>\n",
       "      <td>1</td>\n",
       "      <td>0</td>\n",
       "      <td>1</td>\n",
       "      <td>1</td>\n",
       "    </tr>\n",
       "  </tbody>\n",
       "</table>\n",
       "</div>"
      ],
      "text/plain": [
       "      Age_client  age_of_car_M  Client_Seniority  Insuredcapital_content_re  \\\n",
       "958           55            10           6.14921                    10.1329   \n",
       "1313          76            12           5.38809                    11.3100   \n",
       "330           51             0          12.05750                    10.4334   \n",
       "1923          82            16          11.35390                    10.0437   \n",
       "760           56            10          15.44420                    10.4458   \n",
       "\n",
       "      gender_1  num_policiesC_1  metro_code_1  apartment_1  \n",
       "958          1                1             0            1  \n",
       "1313         0                1             0            0  \n",
       "330          0                1             0            0  \n",
       "1923         1                1             1            1  \n",
       "760          1                0             1            1  "
      ]
     },
     "execution_count": 13,
     "metadata": {},
     "output_type": "execute_result"
    }
   ],
   "source": [
    "X_train_encoded.head()"
   ]
  },
  {
   "cell_type": "code",
   "execution_count": 14,
   "id": "0e2f460a-33a6-483b-ab9a-f020622ca75a",
   "metadata": {},
   "outputs": [
    {
     "data": {
      "image/png": "[encoded data removed]",
      "text/plain": [
       "<Figure size 800x600 with 2 Axes>"
      ]
     },
     "metadata": {},
     "output_type": "display_data"
    }
   ],
   "source": [
    "##-----------------------------------------------------------------------\n",
    "##  2. Identify and and remove highly correlated columns\n",
    "##-----------------------------------------------------------------------\n",
    "import matplotlib.pyplot as plt\n",
    "import seaborn as sns\n",
    "corr_matrix = X_train_encoded.corr(numeric_only=True)\n",
    "plt.figure(figsize=(8, 6))\n",
    "sns.heatmap(corr_matrix.round(2), annot=True, cmap='coolwarm', linewidths=0.5)\n",
    "plt.title('Correlation Heatmap')\n",
    "plt.show()"
   ]
  },
  {
   "cell_type": "markdown",
   "id": "b07c41a3-e65f-405d-bfa3-2da7e578fc8d",
   "metadata": {},
   "source": [
    "#### No highly correlated X-variables were observed."
   ]
  },
  {
   "cell_type": "code",
   "execution_count": 16,
   "id": "e5a0e199-18a2-4f9d-a5a9-a0c012300e07",
   "metadata": {},
   "outputs": [
    {
     "data": {
      "text/html": [
       "<div>\n",
       "<style scoped>\n",
       "    .dataframe tbody tr th:only-of-type {\n",
       "        vertical-align: middle;\n",
       "    }\n",
       "\n",
       "    .dataframe tbody tr th {\n",
       "        vertical-align: top;\n",
       "    }\n",
       "\n",
       "    .dataframe thead th {\n",
       "        text-align: right;\n",
       "    }\n",
       "</style>\n",
       "<table border=\"1\" class=\"dataframe\">\n",
       "  <thead>\n",
       "    <tr style=\"text-align: right;\">\n",
       "      <th></th>\n",
       "      <th>Age_client</th>\n",
       "      <th>age_of_car_M</th>\n",
       "      <th>Client_Seniority</th>\n",
       "      <th>Insuredcapital_content_re</th>\n",
       "      <th>gender_1</th>\n",
       "      <th>num_policiesC_1</th>\n",
       "      <th>metro_code_1</th>\n",
       "      <th>apartment_1</th>\n",
       "    </tr>\n",
       "  </thead>\n",
       "  <tbody>\n",
       "    <tr>\n",
       "      <th>Age_client</th>\n",
       "      <td>1.00</td>\n",
       "      <td>-0.02</td>\n",
       "      <td>0.25</td>\n",
       "      <td>0.11</td>\n",
       "      <td>0.20</td>\n",
       "      <td>0.11</td>\n",
       "      <td>0.07</td>\n",
       "      <td>-0.10</td>\n",
       "    </tr>\n",
       "    <tr>\n",
       "      <th>age_of_car_M</th>\n",
       "      <td>-0.02</td>\n",
       "      <td>1.00</td>\n",
       "      <td>-0.33</td>\n",
       "      <td>0.05</td>\n",
       "      <td>-0.03</td>\n",
       "      <td>-0.02</td>\n",
       "      <td>-0.02</td>\n",
       "      <td>-0.01</td>\n",
       "    </tr>\n",
       "    <tr>\n",
       "      <th>Client_Seniority</th>\n",
       "      <td>0.25</td>\n",
       "      <td>-0.33</td>\n",
       "      <td>1.00</td>\n",
       "      <td>-0.02</td>\n",
       "      <td>0.12</td>\n",
       "      <td>0.03</td>\n",
       "      <td>0.06</td>\n",
       "      <td>0.04</td>\n",
       "    </tr>\n",
       "    <tr>\n",
       "      <th>Insuredcapital_content_re</th>\n",
       "      <td>0.11</td>\n",
       "      <td>0.05</td>\n",
       "      <td>-0.02</td>\n",
       "      <td>1.00</td>\n",
       "      <td>0.05</td>\n",
       "      <td>-0.04</td>\n",
       "      <td>0.14</td>\n",
       "      <td>-0.10</td>\n",
       "    </tr>\n",
       "    <tr>\n",
       "      <th>gender_1</th>\n",
       "      <td>0.20</td>\n",
       "      <td>-0.03</td>\n",
       "      <td>0.12</td>\n",
       "      <td>0.05</td>\n",
       "      <td>1.00</td>\n",
       "      <td>-0.01</td>\n",
       "      <td>-0.04</td>\n",
       "      <td>-0.03</td>\n",
       "    </tr>\n",
       "    <tr>\n",
       "      <th>num_policiesC_1</th>\n",
       "      <td>0.11</td>\n",
       "      <td>-0.02</td>\n",
       "      <td>0.03</td>\n",
       "      <td>-0.04</td>\n",
       "      <td>-0.01</td>\n",
       "      <td>1.00</td>\n",
       "      <td>-0.01</td>\n",
       "      <td>-0.01</td>\n",
       "    </tr>\n",
       "    <tr>\n",
       "      <th>metro_code_1</th>\n",
       "      <td>0.07</td>\n",
       "      <td>-0.02</td>\n",
       "      <td>0.06</td>\n",
       "      <td>0.14</td>\n",
       "      <td>-0.04</td>\n",
       "      <td>-0.01</td>\n",
       "      <td>1.00</td>\n",
       "      <td>0.02</td>\n",
       "    </tr>\n",
       "    <tr>\n",
       "      <th>apartment_1</th>\n",
       "      <td>-0.10</td>\n",
       "      <td>-0.01</td>\n",
       "      <td>0.04</td>\n",
       "      <td>-0.10</td>\n",
       "      <td>-0.03</td>\n",
       "      <td>-0.01</td>\n",
       "      <td>0.02</td>\n",
       "      <td>1.00</td>\n",
       "    </tr>\n",
       "  </tbody>\n",
       "</table>\n",
       "</div>"
      ],
      "text/plain": [
       "                           Age_client  age_of_car_M  Client_Seniority  \\\n",
       "Age_client                       1.00         -0.02              0.25   \n",
       "age_of_car_M                    -0.02          1.00             -0.33   \n",
       "Client_Seniority                 0.25         -0.33              1.00   \n",
       "Insuredcapital_content_re        0.11          0.05             -0.02   \n",
       "gender_1                         0.20         -0.03              0.12   \n",
       "num_policiesC_1                  0.11         -0.02              0.03   \n",
       "metro_code_1                     0.07         -0.02              0.06   \n",
       "apartment_1                     -0.10         -0.01              0.04   \n",
       "\n",
       "                           Insuredcapital_content_re  gender_1  \\\n",
       "Age_client                                      0.11      0.20   \n",
       "age_of_car_M                                    0.05     -0.03   \n",
       "Client_Seniority                               -0.02      0.12   \n",
       "Insuredcapital_content_re                       1.00      0.05   \n",
       "gender_1                                        0.05      1.00   \n",
       "num_policiesC_1                                -0.04     -0.01   \n",
       "metro_code_1                                    0.14     -0.04   \n",
       "apartment_1                                    -0.10     -0.03   \n",
       "\n",
       "                           num_policiesC_1  metro_code_1  apartment_1  \n",
       "Age_client                            0.11          0.07        -0.10  \n",
       "age_of_car_M                         -0.02         -0.02        -0.01  \n",
       "Client_Seniority                      0.03          0.06         0.04  \n",
       "Insuredcapital_content_re            -0.04          0.14        -0.10  \n",
       "gender_1                             -0.01         -0.04        -0.03  \n",
       "num_policiesC_1                       1.00         -0.01        -0.01  \n",
       "metro_code_1                         -0.01          1.00         0.02  \n",
       "apartment_1                          -0.01          0.02         1.00  "
      ]
     },
     "execution_count": 16,
     "metadata": {},
     "output_type": "execute_result"
    }
   ],
   "source": [
    "corr_matrix.round(2)"
   ]
  },
  {
   "cell_type": "code",
   "execution_count": 17,
   "id": "489e78d4-c6bf-475c-87a2-47aa3dc8f521",
   "metadata": {},
   "outputs": [
    {
     "name": "stdout",
     "output_type": "stream",
     "text": [
      "Optimization terminated successfully.\n",
      "         Current function value: 0.669899\n",
      "         Iterations 4\n",
      "                             Results: Logit\n",
      "=========================================================================\n",
      "Model:                  Logit              Method:             MLE       \n",
      "Dependent Variable:     Retention          Pseudo R-squared:   0.033     \n",
      "Date:                   2024-10-09 11:56   AIC:                1893.7185 \n",
      "No. Observations:       1400               BIC:                1940.9165 \n",
      "Df Model:               8                  Log-Likelihood:     -937.86   \n",
      "Df Residuals:           1391               LL-Null:            -970.35   \n",
      "Converged:              1.0000             LLR p-value:        4.8464e-11\n",
      "No. Iterations:         4.0000             Scale:              1.0000    \n",
      "-------------------------------------------------------------------------\n",
      "                           Coef.  Std.Err.    z    P>|z|   [0.025  0.975]\n",
      "-------------------------------------------------------------------------\n",
      "const                     -0.5343   0.8375 -0.6380 0.5235 -2.1758  1.1072\n",
      "Age_client                 0.0238   0.0047  5.0847 0.0000  0.0146  0.0330\n",
      "age_of_car_M               0.0434   0.0098  4.4221 0.0000  0.0242  0.0627\n",
      "Client_Seniority           0.0309   0.0128  2.4193 0.0156  0.0059  0.0560\n",
      "Insuredcapital_content_re -0.1017   0.0772 -1.3182 0.1874 -0.2530  0.0495\n",
      "gender_1                  -0.0325   0.1324 -0.2458 0.8058 -0.2919  0.2269\n",
      "num_policiesC_1           -0.4784   0.1477 -3.2393 0.0012 -0.7678 -0.1889\n",
      "metro_code_1              -0.2591   0.1479 -1.7521 0.0798 -0.5490  0.0307\n",
      "apartment_1               -0.0570   0.1146 -0.4977 0.6187 -0.2816  0.1676\n",
      "=========================================================================\n",
      "\n"
     ]
    }
   ],
   "source": [
    "##-------------------------\n",
    "##  Build the logit model\n",
    "##-------------------------\n",
    "import statsmodels.api as sm\n",
    "##  Constant is to be added when using the sm library\n",
    "X_train_encoded = sm.add_constant( X_train_encoded )\n",
    "#Call Logistic regression with X and Y variables of the training data\n",
    "# Model is built with the training data\n",
    "logit = sm.Logit(y_train, X_train_encoded)\n",
    "##  Fit the model and display results\n",
    "logit_model = logit.fit()\n",
    "print(logit_model.summary2())"
   ]
  },
  {
   "cell_type": "markdown",
   "id": "2c7984c5-fd97-43af-ab2d-cbfe635ba8cd",
   "metadata": {},
   "source": [
    "#### Significant values identified: Age_client, age_of_car_M, Client_Seniority, num_policiesC_1."
   ]
  },
  {
   "cell_type": "code",
   "execution_count": 19,
   "id": "6454018e-a9ce-47e7-9ea6-48fcb2633a2d",
   "metadata": {},
   "outputs": [
    {
     "name": "stdout",
     "output_type": "stream",
     "text": [
      "['Age_client', 'age_of_car_M', 'Client_Seniority', 'num_policiesC_1']\n"
     ]
    }
   ],
   "source": [
    "#Only significant X-vars are used to build the predictive model.\n",
    "#Select the significant variables\n",
    "significant_vars = ['Age_client','age_of_car_M', 'Client_Seniority', 'num_policiesC_1']\n",
    "print(significant_vars)"
   ]
  },
  {
   "cell_type": "code",
   "execution_count": 20,
   "id": "3b0abc5f-01c2-41b8-895c-0382c8537cee",
   "metadata": {},
   "outputs": [
    {
     "name": "stdout",
     "output_type": "stream",
     "text": [
      "Optimization terminated successfully.\n",
      "         Current function value: 0.682161\n",
      "         Iterations 4\n",
      "                         Results: Logit\n",
      "=================================================================\n",
      "Model:              Logit            Method:           MLE       \n",
      "Dependent Variable: Retention        Pseudo R-squared: 0.016     \n",
      "Date:               2024-10-09 11:56 AIC:              1918.0522 \n",
      "No. Observations:   1400             BIC:              1939.0291 \n",
      "Df Model:           3                Log-Likelihood:   -955.03   \n",
      "Df Residuals:       1396             LL-Null:          -970.35   \n",
      "Converged:          1.0000           LLR p-value:      1.0038e-06\n",
      "No. Iterations:     4.0000           Scale:            1.0000    \n",
      "-----------------------------------------------------------------\n",
      "                   Coef.  Std.Err.    z    P>|z|   [0.025  0.975]\n",
      "-----------------------------------------------------------------\n",
      "Age_client         0.0056   0.0032  1.7678 0.0771 -0.0006  0.0117\n",
      "age_of_car_M       0.0236   0.0089  2.6442 0.0082  0.0061  0.0410\n",
      "Client_Seniority   0.0096   0.0119  0.8079 0.4191 -0.0137  0.0329\n",
      "num_policiesC_1   -0.7035   0.1410 -4.9889 0.0000 -0.9798 -0.4271\n",
      "=================================================================\n",
      "\n"
     ]
    }
   ],
   "source": [
    "##-------------------------------------------------------\n",
    "##  Revise model to include only significant predictors\n",
    "##-------------------------------------------------------\n",
    "#final_logit holds the logistic regression equation aka -the model\n",
    "#Only significant X-vars are used to build the predictive model\n",
    "X_train_encoded = sm.add_constant(X_train_encoded)\n",
    "final_logit_model = sm.Logit( y_train,X_train_encoded[significant_vars] ).fit()\n",
    "print(final_logit_model.summary2())"
   ]
  },
  {
   "cell_type": "markdown",
   "id": "164d6941-1350-4983-842e-ea7423439d6e",
   "metadata": {},
   "source": [
    "#### Retraining of the model is required as significant X-variables identified are: age_of_car_M and num_policiesC_1."
   ]
  },
  {
   "cell_type": "code",
   "execution_count": 22,
   "id": "175267a5-922f-4231-b8e0-2c42d3630ea7",
   "metadata": {},
   "outputs": [
    {
     "name": "stdout",
     "output_type": "stream",
     "text": [
      "['age_of_car_M', 'num_policiesC_1']\n",
      "Optimization terminated successfully.\n",
      "         Current function value: 0.685908\n",
      "         Iterations 4\n",
      "                         Results: Logit\n",
      "=================================================================\n",
      "Model:              Logit            Method:           MLE       \n",
      "Dependent Variable: Retention        Pseudo R-squared: 0.010     \n",
      "Date:               2024-10-09 11:56 AIC:              1924.5424 \n",
      "No. Observations:   1400             BIC:              1935.0308 \n",
      "Df Model:           1                Log-Likelihood:   -960.27   \n",
      "Df Residuals:       1398             LL-Null:          -970.35   \n",
      "Converged:          1.0000           LLR p-value:      7.0971e-06\n",
      "No. Iterations:     4.0000           Scale:            1.0000    \n",
      "-----------------------------------------------------------------\n",
      "                   Coef.  Std.Err.    z    P>|z|   [0.025  0.975]\n",
      "-----------------------------------------------------------------\n",
      "age_of_car_M       0.0331   0.0078  4.2551 0.0000  0.0179  0.0484\n",
      "num_policiesC_1   -0.3567   0.0880 -4.0528 0.0001 -0.5292 -0.1842\n",
      "=================================================================\n",
      "\n"
     ]
    }
   ],
   "source": [
    "#Only significant X-vars are used to build the predictive model.\n",
    "#Select the significant variables\n",
    "significant_vars = ['age_of_car_M', 'num_policiesC_1']\n",
    "print(significant_vars)\n",
    "\n",
    "##-------------------------------------------------------\n",
    "##  Revise model to include only significant predictors\n",
    "##-------------------------------------------------------\n",
    "#final_logit holds the logistic regression equation aka -the model\n",
    "#Only significant X-vars are used to build the predictive model\n",
    "X_train_encoded = sm.add_constant(X_train_encoded)\n",
    "final_logit_model = sm.Logit( y_train,X_train_encoded[significant_vars] ).fit()\n",
    "print(final_logit_model.summary2())"
   ]
  },
  {
   "cell_type": "code",
   "execution_count": 23,
   "id": "f79648cd-9fd7-4503-b06a-f910c67b4a12",
   "metadata": {},
   "outputs": [],
   "source": [
    "##----------------------------\n",
    "##  Apply model on test data\n",
    "##----------------------------\n",
    "X_test_encoded=sm.add_constant(X_test_encoded)\n",
    "#Make sure only the significant variables in the test data are selected\n",
    "X_test_sig_vars=X_test_encoded[significant_vars]\n",
    "X_test_sig_vars\n",
    "y_prob=final_logit_model.predict(X_test_sig_vars)\n",
    "#y_prob holds the probability values for each record in the test data"
   ]
  },
  {
   "cell_type": "code",
   "execution_count": 24,
   "id": "aa98bc1b-45ab-4590-b821-4aa916545758",
   "metadata": {},
   "outputs": [
    {
     "data": {
      "text/plain": [
       "83      0.500000\n",
       "885     0.460606\n",
       "1725    0.468849\n",
       "660     0.557730\n",
       "1776    0.477109\n",
       "          ...   \n",
       "1016    0.565887\n",
       "1035    0.551466\n",
       "1134    0.501945\n",
       "1831    0.516562\n",
       "1631    0.460606\n",
       "Length: 600, dtype: float64"
      ]
     },
     "execution_count": 24,
     "metadata": {},
     "output_type": "execute_result"
    }
   ],
   "source": [
    "y_prob"
   ]
  },
  {
   "cell_type": "code",
   "execution_count": 25,
   "id": "ce66d171-f3c3-4dd2-a7c3-c107dac9f393",
   "metadata": {},
   "outputs": [],
   "source": [
    "#Create a dataframe to store the test data's Y value and the predicted probability value\n",
    "#The original admit column is stored as \"actual_Y\"\n",
    "#The predicted prob is stored in y_prob\n",
    "y_pred_df = pd.DataFrame( { \"actual_Y\": y_test,\n",
    "\"predicted_prob\":y_prob})"
   ]
  },
  {
   "cell_type": "code",
   "execution_count": 26,
   "id": "fcdf513d-cda5-4921-aba8-7eea4dc96c0b",
   "metadata": {},
   "outputs": [
    {
     "name": "stdout",
     "output_type": "stream",
     "text": [
      "     actual_Y  predicted_prob\n",
      "83          1        0.500000\n",
      "885         0        0.460606\n",
      "1725        1        0.468849\n",
      "660         0        0.557730\n",
      "1776        1        0.477109\n"
     ]
    }
   ],
   "source": [
    "print(y_pred_df.head())"
   ]
  },
  {
   "cell_type": "code",
   "execution_count": 27,
   "id": "0ba2adcd-6f32-4441-a472-4a0f261e3cc8",
   "metadata": {},
   "outputs": [
    {
     "name": "stdout",
     "output_type": "stream",
     "text": [
      "     actual_Y  predicted_prob  predicted_Y\n",
      "83          1        0.500000            1\n",
      "885         0        0.460606            0\n",
      "1725        1        0.468849            0\n",
      "660         0        0.557730            1\n",
      "1776        1        0.477109            0\n"
     ]
    }
   ],
   "source": [
    "##---------------------------------\n",
    "##  Based on default cut-off -0.5\n",
    "##---------------------------------\n",
    "y_pred_df['predicted_Y'] = y_pred_df.predicted_prob.map(\n",
    "lambda x: 1 if x >= 0.5 else 0)\n",
    "print(y_pred_df.head())"
   ]
  },
  {
   "cell_type": "code",
   "execution_count": 28,
   "id": "4417aa0c-2d81-44a2-b268-4a9cc22547cf",
   "metadata": {},
   "outputs": [
    {
     "name": "stdout",
     "output_type": "stream",
     "text": [
      "[[179 115]\n",
      " [139 167]]\n"
     ]
    }
   ],
   "source": [
    "from sklearn.metrics import confusion_matrix\n",
    "# Generating the confusion matrix using the DataFrame columns\n",
    "cm = confusion_matrix(y_pred_df['actual_Y'],y_pred_df['predicted_Y'])\n",
    "print(cm)"
   ]
  },
  {
   "cell_type": "code",
   "execution_count": 29,
   "id": "a3734c45-89f7-43cd-a2c2-7433b52fb647",
   "metadata": {},
   "outputs": [
    {
     "data": {
      "image/png": "[encoded data removed]",
      "text/plain": [
       "<Figure size 300x300 with 1 Axes>"
      ]
     },
     "metadata": {},
     "output_type": "display_data"
    }
   ],
   "source": [
    "# Create a heatmap for the confusion matrix\n",
    "plt.figure(figsize=(3,3))\n",
    "sns.heatmap(cm, annot=True, fmt='d', cmap='Blues', cbar=False, \n",
    "            xticklabels=['Predicted 0', 'Predicted 1'], \n",
    "            yticklabels=['Actual 0', 'Actual 1'])\n",
    "plt.title('Confusion Matrix')\n",
    "plt.ylabel('Actual')\n",
    "plt.xlabel('Predicted')\n",
    "plt.show()"
   ]
  },
  {
   "cell_type": "code",
   "execution_count": 30,
   "id": "c5837b9e-28c4-4b02-8987-ae4fc909be31",
   "metadata": {},
   "outputs": [
    {
     "name": "stdout",
     "output_type": "stream",
     "text": [
      "Sensitivity (Recall): 0.55\n",
      "Accuracy: 0.58\n"
     ]
    }
   ],
   "source": [
    "# Calculate Sensitivity (Recall), Specificity, and Accuracy using scikit-learn functions\n",
    "from sklearn.metrics import  accuracy_score, recall_score, precision_score\n",
    "sensitivity = recall_score(y_pred_df['actual_Y'], y_pred_df['predicted_Y'])\n",
    "accuracy = accuracy_score(y_pred_df['actual_Y'], y_pred_df['predicted_Y'])\n",
    "\n",
    "# Print metrics\n",
    "print(f\"Sensitivity (Recall): {sensitivity:.2f}\")\n",
    "print(f\"Accuracy: {accuracy:.2f}\")"
   ]
  },
  {
   "cell_type": "code",
   "execution_count": 31,
   "id": "af6a5ace-b428-4ff1-9a1b-6f132c83f52e",
   "metadata": {},
   "outputs": [
    {
     "name": "stdout",
     "output_type": "stream",
     "text": [
      "\n",
      "Classification Report:\n",
      "              precision    recall  f1-score   support\n",
      "\n",
      "           0       0.56      0.61      0.58       294\n",
      "           1       0.59      0.55      0.57       306\n",
      "\n",
      "    accuracy                           0.58       600\n",
      "   macro avg       0.58      0.58      0.58       600\n",
      "weighted avg       0.58      0.58      0.58       600\n",
      "\n"
     ]
    }
   ],
   "source": [
    "from sklearn.metrics import confusion_matrix, classification_report\n",
    "print(\"\\nClassification Report:\")\n",
    "print(classification_report(y_pred_df['actual_Y'],y_pred_df['predicted_Y']))"
   ]
  },
  {
   "cell_type": "code",
   "execution_count": 32,
   "id": "30a9dafa-1cec-4b08-bb24-9c9cfbd84cd1",
   "metadata": {},
   "outputs": [],
   "source": [
    "import numpy as np\n",
    "import pandas as pd\n",
    "from sklearn.metrics import confusion_matrix\n",
    "\n",
    "def compute_sensitivity_table(y_actual, y_prob, specific_thresholds=np.arange(0.1, 0.5, 0.01)):\n",
    "    \"\"\"\n",
    "    This function computes and prints a table of sensitivity (TPR) values for specified thresholds (0.1 to 0.5).\n",
    "    \n",
    "    Parameters:\n",
    "    y_actual: array-like\n",
    "        The actual binary labels.\n",
    "    y_prob: array-like\n",
    "        The predicted probabilities for the positive class.\n",
    "    specific_thresholds: array-like, optional\n",
    "        The specific thresholds for which to compute sensitivity. Default is np.arange(0.1, 0.5, 0.01).\n",
    "    \"\"\"\n",
    "    \n",
    "    results = []  # List to store results for the table\n",
    "\n",
    "    for threshold in specific_thresholds:\n",
    "        # Convert predicted probabilities to binary predictions based on the threshold\n",
    "        y_pred = (y_prob >= threshold).astype(int)\n",
    "        \n",
    "        # Get the confusion matrix\n",
    "        tn, fp, fn, tp = confusion_matrix(y_actual, y_pred).ravel()\n",
    "        \n",
    "        # Calculate TPR (Sensitivity)\n",
    "        tpr = tp / (tp + fn) if (tp + fn) > 0 else 0  # Avoid division by zero\n",
    "        \n",
    "        # Append results\n",
    "        results.append({'Threshold': threshold, 'Sensitivity (TPR)': tpr})\n",
    "\n",
    "    # Create a DataFrame for better formatting\n",
    "    sensitivity_table = pd.DataFrame(results)\n",
    "    \n",
    "    # Print the sensitivity table\n",
    "    print(sensitivity_table)"
   ]
  },
  {
   "cell_type": "code",
   "execution_count": 33,
   "id": "31ee0020-8a41-4062-9798-4c0e5069826b",
   "metadata": {},
   "outputs": [
    {
     "name": "stdout",
     "output_type": "stream",
     "text": [
      "    Threshold  Sensitivity (TPR)\n",
      "0        0.10           1.000000\n",
      "1        0.11           1.000000\n",
      "2        0.12           1.000000\n",
      "3        0.13           1.000000\n",
      "4        0.14           1.000000\n",
      "5        0.15           1.000000\n",
      "6        0.16           1.000000\n",
      "7        0.17           1.000000\n",
      "8        0.18           1.000000\n",
      "9        0.19           1.000000\n",
      "10       0.20           1.000000\n",
      "11       0.21           1.000000\n",
      "12       0.22           1.000000\n",
      "13       0.23           1.000000\n",
      "14       0.24           1.000000\n",
      "15       0.25           1.000000\n",
      "16       0.26           1.000000\n",
      "17       0.27           1.000000\n",
      "18       0.28           1.000000\n",
      "19       0.29           1.000000\n",
      "20       0.30           1.000000\n",
      "21       0.31           1.000000\n",
      "22       0.32           1.000000\n",
      "23       0.33           1.000000\n",
      "24       0.34           1.000000\n",
      "25       0.35           1.000000\n",
      "26       0.36           1.000000\n",
      "27       0.37           1.000000\n",
      "28       0.38           1.000000\n",
      "29       0.39           1.000000\n",
      "30       0.40           1.000000\n",
      "31       0.41           1.000000\n",
      "32       0.42           0.826797\n",
      "33       0.43           0.810458\n",
      "34       0.44           0.810458\n",
      "35       0.45           0.790850\n",
      "36       0.46           0.781046\n",
      "37       0.47           0.718954\n",
      "38       0.48           0.673203\n",
      "39       0.49           0.617647\n"
     ]
    }
   ],
   "source": [
    "compute_sensitivity_table(y_pred_df['actual_Y'], y_pred_df['predicted_prob'])"
   ]
  },
  {
   "cell_type": "markdown",
   "id": "0c49a1a1-a83f-4b0b-9d1c-57646ce94892",
   "metadata": {},
   "source": [
    "### Business decision:\n",
    "\n",
    "Select a threshold value of 0.42 for a higher sensistivity."
   ]
  },
  {
   "cell_type": "code",
   "execution_count": null,
   "id": "e3640ba5-b0f3-4b4f-957c-4c4f74a26a8e",
   "metadata": {},
   "outputs": [],
   "source": []
  }
 ],
 "metadata": {
  "kernelspec": {
   "display_name": "Python 3 (ipykernel)",
   "language": "python",
   "name": "python3"
  },
  "language_info": {
   "codemirror_mode": {
    "name": "ipython",
    "version": 3
   },
   "file_extension": ".py",
   "mimetype": "text/x-python",
   "name": "python",
   "nbconvert_exporter": "python",
   "pygments_lexer": "ipython3",
   "version": "3.12.7"
  }
 },
 "nbformat": 4,
 "nbformat_minor": 5
}
