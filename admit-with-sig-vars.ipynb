{
 "cells": [
  {
   "cell_type": "code",
   "execution_count": 1,
   "id": "14ee7c7e",
   "metadata": {},
   "outputs": [],
   "source": [
    "#Business Goal:\n",
    "#Build a predictive model to identify who would be admitted"
   ]
  },
  {
   "cell_type": "code",
   "execution_count": 2,
   "id": "d8f8fa06",
   "metadata": {},
   "outputs": [],
   "source": [
    "import pandas as pd\n",
    "raw_df=pd.read_excel('admit.xlsx')"
   ]
  },
  {
   "cell_type": "code",
   "execution_count": 3,
   "id": "a20cb427",
   "metadata": {},
   "outputs": [
    {
     "name": "stdout",
     "output_type": "stream",
     "text": [
      "<class 'pandas.core.frame.DataFrame'>\n",
      "RangeIndex: 400 entries, 0 to 399\n",
      "Data columns (total 5 columns):\n",
      " #   Column  Non-Null Count  Dtype  \n",
      "---  ------  --------------  -----  \n",
      " 0   admit   400 non-null    int64  \n",
      " 1   gre     400 non-null    int64  \n",
      " 2   gpa     400 non-null    float64\n",
      " 3   rank    400 non-null    int64  \n",
      " 4   gender  400 non-null    object \n",
      "dtypes: float64(1), int64(3), object(1)\n",
      "memory usage: 15.8+ KB\n"
     ]
    }
   ],
   "source": [
    "raw_df.info()"
   ]
  },
  {
   "cell_type": "code",
   "execution_count": 4,
   "id": "7c2cc9ca",
   "metadata": {},
   "outputs": [
    {
     "data": {
      "text/html": [
       "<div>\n",
       "<style scoped>\n",
       "    .dataframe tbody tr th:only-of-type {\n",
       "        vertical-align: middle;\n",
       "    }\n",
       "\n",
       "    .dataframe tbody tr th {\n",
       "        vertical-align: top;\n",
       "    }\n",
       "\n",
       "    .dataframe thead th {\n",
       "        text-align: right;\n",
       "    }\n",
       "</style>\n",
       "<table border=\"1\" class=\"dataframe\">\n",
       "  <thead>\n",
       "    <tr style=\"text-align: right;\">\n",
       "      <th></th>\n",
       "      <th>admit</th>\n",
       "      <th>gre</th>\n",
       "      <th>gpa</th>\n",
       "      <th>rank</th>\n",
       "      <th>gender</th>\n",
       "    </tr>\n",
       "  </thead>\n",
       "  <tbody>\n",
       "    <tr>\n",
       "      <th>0</th>\n",
       "      <td>1</td>\n",
       "      <td>660</td>\n",
       "      <td>3.67</td>\n",
       "      <td>3</td>\n",
       "      <td>Male</td>\n",
       "    </tr>\n",
       "    <tr>\n",
       "      <th>1</th>\n",
       "      <td>1</td>\n",
       "      <td>800</td>\n",
       "      <td>4.00</td>\n",
       "      <td>1</td>\n",
       "      <td>Female</td>\n",
       "    </tr>\n",
       "    <tr>\n",
       "      <th>2</th>\n",
       "      <td>1</td>\n",
       "      <td>640</td>\n",
       "      <td>3.19</td>\n",
       "      <td>4</td>\n",
       "      <td>Male</td>\n",
       "    </tr>\n",
       "    <tr>\n",
       "      <th>3</th>\n",
       "      <td>1</td>\n",
       "      <td>760</td>\n",
       "      <td>3.00</td>\n",
       "      <td>2</td>\n",
       "      <td>Male</td>\n",
       "    </tr>\n",
       "    <tr>\n",
       "      <th>4</th>\n",
       "      <td>1</td>\n",
       "      <td>560</td>\n",
       "      <td>2.98</td>\n",
       "      <td>1</td>\n",
       "      <td>Female</td>\n",
       "    </tr>\n",
       "  </tbody>\n",
       "</table>\n",
       "</div>"
      ],
      "text/plain": [
       "   admit  gre   gpa  rank  gender\n",
       "0      1  660  3.67     3    Male\n",
       "1      1  800  4.00     1  Female\n",
       "2      1  640  3.19     4    Male\n",
       "3      1  760  3.00     2    Male\n",
       "4      1  560  2.98     1  Female"
      ]
     },
     "execution_count": 4,
     "metadata": {},
     "output_type": "execute_result"
    }
   ],
   "source": [
    "raw_df.head()"
   ]
  },
  {
   "cell_type": "code",
   "execution_count": 5,
   "id": "ab190c63",
   "metadata": {},
   "outputs": [
    {
     "data": {
      "text/html": [
       "<div>\n",
       "<style scoped>\n",
       "    .dataframe tbody tr th:only-of-type {\n",
       "        vertical-align: middle;\n",
       "    }\n",
       "\n",
       "    .dataframe tbody tr th {\n",
       "        vertical-align: top;\n",
       "    }\n",
       "\n",
       "    .dataframe thead th {\n",
       "        text-align: right;\n",
       "    }\n",
       "</style>\n",
       "<table border=\"1\" class=\"dataframe\">\n",
       "  <thead>\n",
       "    <tr style=\"text-align: right;\">\n",
       "      <th></th>\n",
       "      <th>admit</th>\n",
       "      <th>gre</th>\n",
       "      <th>gpa</th>\n",
       "      <th>rank</th>\n",
       "      <th>gender</th>\n",
       "    </tr>\n",
       "  </thead>\n",
       "  <tbody>\n",
       "    <tr>\n",
       "      <th>0</th>\n",
       "      <td>1</td>\n",
       "      <td>660</td>\n",
       "      <td>3.67</td>\n",
       "      <td>3</td>\n",
       "      <td>Male</td>\n",
       "    </tr>\n",
       "    <tr>\n",
       "      <th>1</th>\n",
       "      <td>1</td>\n",
       "      <td>800</td>\n",
       "      <td>4.00</td>\n",
       "      <td>1</td>\n",
       "      <td>Female</td>\n",
       "    </tr>\n",
       "    <tr>\n",
       "      <th>2</th>\n",
       "      <td>1</td>\n",
       "      <td>640</td>\n",
       "      <td>3.19</td>\n",
       "      <td>4</td>\n",
       "      <td>Male</td>\n",
       "    </tr>\n",
       "    <tr>\n",
       "      <th>3</th>\n",
       "      <td>1</td>\n",
       "      <td>760</td>\n",
       "      <td>3.00</td>\n",
       "      <td>2</td>\n",
       "      <td>Male</td>\n",
       "    </tr>\n",
       "    <tr>\n",
       "      <th>4</th>\n",
       "      <td>1</td>\n",
       "      <td>560</td>\n",
       "      <td>2.98</td>\n",
       "      <td>1</td>\n",
       "      <td>Female</td>\n",
       "    </tr>\n",
       "    <tr>\n",
       "      <th>...</th>\n",
       "      <td>...</td>\n",
       "      <td>...</td>\n",
       "      <td>...</td>\n",
       "      <td>...</td>\n",
       "      <td>...</td>\n",
       "    </tr>\n",
       "    <tr>\n",
       "      <th>395</th>\n",
       "      <td>0</td>\n",
       "      <td>620</td>\n",
       "      <td>4.00</td>\n",
       "      <td>2</td>\n",
       "      <td>Female</td>\n",
       "    </tr>\n",
       "    <tr>\n",
       "      <th>396</th>\n",
       "      <td>0</td>\n",
       "      <td>560</td>\n",
       "      <td>3.04</td>\n",
       "      <td>3</td>\n",
       "      <td>Male</td>\n",
       "    </tr>\n",
       "    <tr>\n",
       "      <th>397</th>\n",
       "      <td>0</td>\n",
       "      <td>460</td>\n",
       "      <td>2.63</td>\n",
       "      <td>2</td>\n",
       "      <td>Female</td>\n",
       "    </tr>\n",
       "    <tr>\n",
       "      <th>398</th>\n",
       "      <td>0</td>\n",
       "      <td>700</td>\n",
       "      <td>3.65</td>\n",
       "      <td>2</td>\n",
       "      <td>Male</td>\n",
       "    </tr>\n",
       "    <tr>\n",
       "      <th>399</th>\n",
       "      <td>0</td>\n",
       "      <td>600</td>\n",
       "      <td>3.89</td>\n",
       "      <td>3</td>\n",
       "      <td>Male</td>\n",
       "    </tr>\n",
       "  </tbody>\n",
       "</table>\n",
       "<p>400 rows × 5 columns</p>\n",
       "</div>"
      ],
      "text/plain": [
       "     admit  gre   gpa  rank  gender\n",
       "0        1  660  3.67     3    Male\n",
       "1        1  800  4.00     1  Female\n",
       "2        1  640  3.19     4    Male\n",
       "3        1  760  3.00     2    Male\n",
       "4        1  560  2.98     1  Female\n",
       "..     ...  ...   ...   ...     ...\n",
       "395      0  620  4.00     2  Female\n",
       "396      0  560  3.04     3    Male\n",
       "397      0  460  2.63     2  Female\n",
       "398      0  700  3.65     2    Male\n",
       "399      0  600  3.89     3    Male\n",
       "\n",
       "[400 rows x 5 columns]"
      ]
     },
     "execution_count": 5,
     "metadata": {},
     "output_type": "execute_result"
    }
   ],
   "source": [
    "raw_df"
   ]
  },
  {
   "cell_type": "code",
   "execution_count": 6,
   "id": "3438b582",
   "metadata": {},
   "outputs": [
    {
     "name": "stdout",
     "output_type": "stream",
     "text": [
      "<class 'pandas.core.series.Series'>\n",
      "RangeIndex: 400 entries, 0 to 399\n",
      "Series name: admit\n",
      "Non-Null Count  Dtype   \n",
      "--------------  -----   \n",
      "400 non-null    category\n",
      "dtypes: category(1)\n",
      "memory usage: 652.0 bytes\n",
      "None\n"
     ]
    }
   ],
   "source": [
    "##------------------------------------------\n",
    "##  Identify the Class Label or Y variable\n",
    "##------------------------------------------\n",
    "Y = raw_df.admit.astype('category')\n",
    "\n",
    "print(Y.info())"
   ]
  },
  {
   "cell_type": "code",
   "execution_count": 7,
   "id": "53b19ac4",
   "metadata": {},
   "outputs": [],
   "source": [
    "##-------------------------------------------------------------------\n",
    "##  Select the Predictor Variables into a list called X_features\n",
    "##--------------------------------------------------------------------\n",
    "X_features = list( raw_df.columns )\n",
    "X_features.remove( 'admit' )"
   ]
  },
  {
   "cell_type": "code",
   "execution_count": 8,
   "id": "00d1a85a",
   "metadata": {},
   "outputs": [
    {
     "name": "stdout",
     "output_type": "stream",
     "text": [
      "['gre', 'gpa', 'rank', 'gender']\n"
     ]
    }
   ],
   "source": [
    "print(X_features)"
   ]
  },
  {
   "cell_type": "code",
   "execution_count": 9,
   "id": "4889d18e",
   "metadata": {},
   "outputs": [],
   "source": [
    "##------------------------------------------\n",
    "##  Set up a dataframe with only X-variables\n",
    "##------------------------------------------\n",
    "X =  raw_df[X_features]\n"
   ]
  },
  {
   "cell_type": "code",
   "execution_count": 10,
   "id": "cc83d799",
   "metadata": {},
   "outputs": [
    {
     "name": "stdout",
     "output_type": "stream",
     "text": [
      "<class 'pandas.core.series.Series'>\n",
      "Index: 280 entries, 266 to 346\n",
      "Series name: admit\n",
      "Non-Null Count  Dtype   \n",
      "--------------  -----   \n",
      "280 non-null    category\n",
      "dtypes: category(1)\n",
      "memory usage: 2.6 KB\n",
      "None\n"
     ]
    }
   ],
   "source": [
    "##-----------------------------------------\n",
    "##  Split the Data into Training and Test\n",
    "##  test size=0.3 indicates 70% training and\n",
    "##  30% test data\n",
    "##-----------------------------------------\n",
    "from sklearn.model_selection import train_test_split\n",
    "X_train, X_test, y_train, y_test = train_test_split(X,\n",
    "Y,\n",
    "test_size = 0.3,\n",
    "random_state = 500)\n",
    "print(y_train.info())\n",
    "\n",
    "##############################################################################\n",
    "##  All data processing should be done after split to prevent data leakage  ##\n",
    "##############################################################################"
   ]
  },
  {
   "cell_type": "code",
   "execution_count": 11,
   "id": "2430d73c",
   "metadata": {},
   "outputs": [],
   "source": [
    "##############################################################################\n",
    "##  Pre-process X-vars   ##\n",
    "##############################################################################\n",
    "\n",
    "##-----------------------------------------------------------------------\n",
    "##  1. Identify and dummy code (one-hot encoding) the categorical column\n",
    "##-----------------------------------------------------------------------\n",
    "# List of categorical columns\n",
    "categorical_columns = ['gender','rank']\n",
    "X_train_encoded = pd.get_dummies(X_train, columns=categorical_columns,drop_first = True,dtype=int )\n",
    "X_test_encoded = pd.get_dummies(X_test, columns=categorical_columns,drop_first = True ,dtype=int)\n",
    "\n"
   ]
  },
  {
   "cell_type": "code",
   "execution_count": 12,
   "id": "b8c90cb7",
   "metadata": {},
   "outputs": [
    {
     "name": "stdout",
     "output_type": "stream",
     "text": [
      "<class 'pandas.core.frame.DataFrame'>\n",
      "Index: 280 entries, 266 to 346\n",
      "Data columns (total 6 columns):\n",
      " #   Column       Non-Null Count  Dtype  \n",
      "---  ------       --------------  -----  \n",
      " 0   gre          280 non-null    int64  \n",
      " 1   gpa          280 non-null    float64\n",
      " 2   gender_Male  280 non-null    int32  \n",
      " 3   rank_2       280 non-null    int32  \n",
      " 4   rank_3       280 non-null    int32  \n",
      " 5   rank_4       280 non-null    int32  \n",
      "dtypes: float64(1), int32(4), int64(1)\n",
      "memory usage: 10.9 KB\n"
     ]
    }
   ],
   "source": [
    "X_train_encoded.info()"
   ]
  },
  {
   "cell_type": "code",
   "execution_count": 13,
   "id": "4a933d35",
   "metadata": {},
   "outputs": [
    {
     "data": {
      "text/html": [
       "<div>\n",
       "<style scoped>\n",
       "    .dataframe tbody tr th:only-of-type {\n",
       "        vertical-align: middle;\n",
       "    }\n",
       "\n",
       "    .dataframe tbody tr th {\n",
       "        vertical-align: top;\n",
       "    }\n",
       "\n",
       "    .dataframe thead th {\n",
       "        text-align: right;\n",
       "    }\n",
       "</style>\n",
       "<table border=\"1\" class=\"dataframe\">\n",
       "  <thead>\n",
       "    <tr style=\"text-align: right;\">\n",
       "      <th></th>\n",
       "      <th>gre</th>\n",
       "      <th>gpa</th>\n",
       "      <th>gender_Male</th>\n",
       "      <th>rank_2</th>\n",
       "      <th>rank_3</th>\n",
       "      <th>rank_4</th>\n",
       "    </tr>\n",
       "  </thead>\n",
       "  <tbody>\n",
       "    <tr>\n",
       "      <th>266</th>\n",
       "      <td>380</td>\n",
       "      <td>3.59</td>\n",
       "      <td>1</td>\n",
       "      <td>0</td>\n",
       "      <td>0</td>\n",
       "      <td>1</td>\n",
       "    </tr>\n",
       "    <tr>\n",
       "      <th>369</th>\n",
       "      <td>400</td>\n",
       "      <td>3.36</td>\n",
       "      <td>0</td>\n",
       "      <td>1</td>\n",
       "      <td>0</td>\n",
       "      <td>0</td>\n",
       "    </tr>\n",
       "    <tr>\n",
       "      <th>378</th>\n",
       "      <td>480</td>\n",
       "      <td>2.78</td>\n",
       "      <td>1</td>\n",
       "      <td>0</td>\n",
       "      <td>1</td>\n",
       "      <td>0</td>\n",
       "    </tr>\n",
       "    <tr>\n",
       "      <th>359</th>\n",
       "      <td>520</td>\n",
       "      <td>3.15</td>\n",
       "      <td>1</td>\n",
       "      <td>0</td>\n",
       "      <td>1</td>\n",
       "      <td>0</td>\n",
       "    </tr>\n",
       "    <tr>\n",
       "      <th>42</th>\n",
       "      <td>700</td>\n",
       "      <td>3.52</td>\n",
       "      <td>1</td>\n",
       "      <td>0</td>\n",
       "      <td>0</td>\n",
       "      <td>1</td>\n",
       "    </tr>\n",
       "  </tbody>\n",
       "</table>\n",
       "</div>"
      ],
      "text/plain": [
       "     gre   gpa  gender_Male  rank_2  rank_3  rank_4\n",
       "266  380  3.59            1       0       0       1\n",
       "369  400  3.36            0       1       0       0\n",
       "378  480  2.78            1       0       1       0\n",
       "359  520  3.15            1       0       1       0\n",
       "42   700  3.52            1       0       0       1"
      ]
     },
     "execution_count": 13,
     "metadata": {},
     "output_type": "execute_result"
    }
   ],
   "source": [
    "X_train_encoded.head()"
   ]
  },
  {
   "cell_type": "code",
   "execution_count": 14,
   "id": "3095f353",
   "metadata": {},
   "outputs": [
    {
     "data": {
      "image/png": "[encoded data removed]",
      "text/plain": [
       "<Figure size 800x600 with 2 Axes>"
      ]
     },
     "metadata": {},
     "output_type": "display_data"
    }
   ],
   "source": [
    "##-----------------------------------------------------------------------\n",
    "##  2. Identify and and remove highly correlated columns\n",
    "##-----------------------------------------------------------------------\n",
    "import matplotlib.pyplot as plt\n",
    "import seaborn as sns\n",
    "corr_matrix = X_train_encoded.corr(numeric_only=True)\n",
    "plt.figure(figsize=(8, 6))\n",
    "sns.heatmap(corr_matrix, annot=True, cmap='coolwarm', linewidths=0.5)\n",
    "plt.title('Correlation Heatmap')\n",
    "plt.show()"
   ]
  },
  {
   "cell_type": "code",
   "execution_count": 15,
   "id": "06907d3c",
   "metadata": {},
   "outputs": [
    {
     "data": {
      "text/html": [
       "<div>\n",
       "<style scoped>\n",
       "    .dataframe tbody tr th:only-of-type {\n",
       "        vertical-align: middle;\n",
       "    }\n",
       "\n",
       "    .dataframe tbody tr th {\n",
       "        vertical-align: top;\n",
       "    }\n",
       "\n",
       "    .dataframe thead th {\n",
       "        text-align: right;\n",
       "    }\n",
       "</style>\n",
       "<table border=\"1\" class=\"dataframe\">\n",
       "  <thead>\n",
       "    <tr style=\"text-align: right;\">\n",
       "      <th></th>\n",
       "      <th>gre</th>\n",
       "      <th>gpa</th>\n",
       "      <th>gender_Male</th>\n",
       "      <th>rank_2</th>\n",
       "      <th>rank_3</th>\n",
       "      <th>rank_4</th>\n",
       "    </tr>\n",
       "  </thead>\n",
       "  <tbody>\n",
       "    <tr>\n",
       "      <th>gre</th>\n",
       "      <td>1.000000</td>\n",
       "      <td>0.374043</td>\n",
       "      <td>0.122734</td>\n",
       "      <td>0.051833</td>\n",
       "      <td>-0.116658</td>\n",
       "      <td>-0.031818</td>\n",
       "    </tr>\n",
       "    <tr>\n",
       "      <th>gpa</th>\n",
       "      <td>0.374043</td>\n",
       "      <td>1.000000</td>\n",
       "      <td>0.070004</td>\n",
       "      <td>-0.085552</td>\n",
       "      <td>0.124052</td>\n",
       "      <td>-0.115924</td>\n",
       "    </tr>\n",
       "    <tr>\n",
       "      <th>gender_Male</th>\n",
       "      <td>0.122734</td>\n",
       "      <td>0.070004</td>\n",
       "      <td>1.000000</td>\n",
       "      <td>0.017627</td>\n",
       "      <td>-0.059966</td>\n",
       "      <td>0.081706</td>\n",
       "    </tr>\n",
       "    <tr>\n",
       "      <th>rank_2</th>\n",
       "      <td>0.051833</td>\n",
       "      <td>-0.085552</td>\n",
       "      <td>0.017627</td>\n",
       "      <td>1.000000</td>\n",
       "      <td>-0.507371</td>\n",
       "      <td>-0.362014</td>\n",
       "    </tr>\n",
       "    <tr>\n",
       "      <th>rank_3</th>\n",
       "      <td>-0.116658</td>\n",
       "      <td>0.124052</td>\n",
       "      <td>-0.059966</td>\n",
       "      <td>-0.507371</td>\n",
       "      <td>1.000000</td>\n",
       "      <td>-0.275513</td>\n",
       "    </tr>\n",
       "    <tr>\n",
       "      <th>rank_4</th>\n",
       "      <td>-0.031818</td>\n",
       "      <td>-0.115924</td>\n",
       "      <td>0.081706</td>\n",
       "      <td>-0.362014</td>\n",
       "      <td>-0.275513</td>\n",
       "      <td>1.000000</td>\n",
       "    </tr>\n",
       "  </tbody>\n",
       "</table>\n",
       "</div>"
      ],
      "text/plain": [
       "                  gre       gpa  gender_Male    rank_2    rank_3    rank_4\n",
       "gre          1.000000  0.374043     0.122734  0.051833 -0.116658 -0.031818\n",
       "gpa          0.374043  1.000000     0.070004 -0.085552  0.124052 -0.115924\n",
       "gender_Male  0.122734  0.070004     1.000000  0.017627 -0.059966  0.081706\n",
       "rank_2       0.051833 -0.085552     0.017627  1.000000 -0.507371 -0.362014\n",
       "rank_3      -0.116658  0.124052    -0.059966 -0.507371  1.000000 -0.275513\n",
       "rank_4      -0.031818 -0.115924     0.081706 -0.362014 -0.275513  1.000000"
      ]
     },
     "execution_count": 15,
     "metadata": {},
     "output_type": "execute_result"
    }
   ],
   "source": [
    "corr_matrix"
   ]
  },
  {
   "cell_type": "code",
   "execution_count": 16,
   "id": "b8f9df13",
   "metadata": {},
   "outputs": [
    {
     "name": "stdout",
     "output_type": "stream",
     "text": [
      "Optimization terminated successfully.\n",
      "         Current function value: 0.559447\n",
      "         Iterations 6\n",
      "                         Results: Logit\n",
      "=================================================================\n",
      "Model:              Logit            Pseudo R-squared: 0.113     \n",
      "Dependent Variable: admit            AIC:              327.2904  \n",
      "Date:               2024-09-24 19:21 BIC:              352.7339  \n",
      "No. Observations:   280              Log-Likelihood:   -156.65   \n",
      "Df Model:           6                LL-Null:          -176.56   \n",
      "Df Residuals:       273              LLR p-value:      4.9082e-07\n",
      "Converged:          1.0000           Scale:            1.0000    \n",
      "No. Iterations:     6.0000                                       \n",
      "------------------------------------------------------------------\n",
      "               Coef.   Std.Err.     z     P>|z|    [0.025   0.975]\n",
      "------------------------------------------------------------------\n",
      "const         -4.4099    1.4602  -3.0200  0.0025  -7.2718  -1.5479\n",
      "gre            0.0028    0.0013   2.0976  0.0359   0.0002   0.0053\n",
      "gpa            0.6441    0.4170   1.5445  0.1225  -0.1733   1.4615\n",
      "gender_Male    0.9172    0.2890   3.1739  0.0015   0.3508   1.4835\n",
      "rank_2        -0.4344    0.3830  -1.1344  0.2566  -1.1850   0.3162\n",
      "rank_3        -1.1668    0.4298  -2.7147  0.0066  -2.0092  -0.3244\n",
      "rank_4        -1.6093    0.5199  -3.0955  0.0020  -2.6282  -0.5903\n",
      "=================================================================\n",
      "\n"
     ]
    }
   ],
   "source": [
    "##-------------------------\n",
    "##  Build the logit model\n",
    "##-------------------------\n",
    "import statsmodels.api as sm\n",
    "##  Constant is to be added when using the sm library\n",
    "X_train_encoded = sm.add_constant( X_train_encoded )\n",
    "#Call Logistic regression with X and Y variables of the training data\n",
    "# Model is built with the training data\n",
    "logit = sm.Logit(y_train, X_train_encoded)\n",
    "##  Fit the model and display results\n",
    "logit_model = logit.fit()\n",
    "print(logit_model.summary2())"
   ]
  },
  {
   "cell_type": "code",
   "execution_count": 17,
   "id": "9f78a13f",
   "metadata": {},
   "outputs": [
    {
     "name": "stdout",
     "output_type": "stream",
     "text": [
      "['gre', 'gender_Male', 'rank_3', 'rank_4']\n"
     ]
    }
   ],
   "source": [
    "#Only significant X-vars are used to build the predictive model\n",
    "#Only significant X-vars are used to build the predictive model\n",
    "#Select the significant variables\n",
    "significant_vars = ['gre','gender_Male','rank_3','rank_4']\n",
    "print(significant_vars)"
   ]
  },
  {
   "cell_type": "code",
   "execution_count": 18,
   "id": "7e2b574a",
   "metadata": {},
   "outputs": [
    {
     "name": "stdout",
     "output_type": "stream",
     "text": [
      "Optimization terminated successfully.\n",
      "         Current function value: 0.595689\n",
      "         Iterations 6\n",
      "                         Results: Logit\n",
      "=================================================================\n",
      "Model:              Logit            Pseudo R-squared: 0.055     \n",
      "Dependent Variable: admit            AIC:              341.5860  \n",
      "Date:               2024-09-24 19:21 BIC:              356.1252  \n",
      "No. Observations:   280              Log-Likelihood:   -166.79   \n",
      "Df Model:           3                LL-Null:          -176.56   \n",
      "Df Residuals:       276              LLR p-value:      0.00021145\n",
      "Converged:          1.0000           Scale:            1.0000    \n",
      "No. Iterations:     6.0000                                       \n",
      "------------------------------------------------------------------\n",
      "               Coef.   Std.Err.     z     P>|z|    [0.025   0.975]\n",
      "------------------------------------------------------------------\n",
      "gre           -0.0010    0.0004  -2.7799  0.0054  -0.0018  -0.0003\n",
      "gender_Male    0.7541    0.2740   2.7523  0.0059   0.2171   1.2910\n",
      "rank_3        -1.0552    0.3107  -3.3965  0.0007  -1.6641  -0.4463\n",
      "rank_4        -1.4925    0.4243  -3.5177  0.0004  -2.3241  -0.6609\n",
      "=================================================================\n",
      "\n"
     ]
    }
   ],
   "source": [
    "##-------------------------------------------------------\n",
    "##  Revise model to include only significant predictors\n",
    "##-------------------------------------------------------\n",
    "#final_logit holds the logistic regression equation aka -the model\n",
    "#Only significant X-vars are used to build the predictive model\n",
    "final_logit_model = sm.Logit( y_train,X_train_encoded[significant_vars] ).fit()\n",
    "print(final_logit_model.summary2())"
   ]
  },
  {
   "cell_type": "code",
   "execution_count": 19,
   "id": "bca84f05",
   "metadata": {},
   "outputs": [],
   "source": [
    "##----------------------------\n",
    "##  Apply model on test data\n",
    "##----------------------------\n",
    "X_test_encoded=sm.add_constant(X_test_encoded)\n",
    "#Make sure only the significant variables in the test data are selected\n",
    "X_test_sig_vars=X_test_encoded[significant_vars]\n",
    "X_test_sig_vars\n",
    "y_prob=final_logit_model.predict(X_test_sig_vars)\n",
    "#y_prob holds the probability values for each record in the test data"
   ]
  },
  {
   "cell_type": "code",
   "execution_count": 20,
   "id": "6f3672ae",
   "metadata": {},
   "outputs": [
    {
     "data": {
      "text/plain": [
       "288    0.378588\n",
       "108    0.548985\n",
       "217    0.340577\n",
       "70     0.554092\n",
       "330    0.169099\n",
       "         ...   \n",
       "59     0.248544\n",
       "79     0.301962\n",
       "293    0.528464\n",
       "249    0.166217\n",
       "107    0.289068\n",
       "Length: 120, dtype: float64"
      ]
     },
     "execution_count": 20,
     "metadata": {},
     "output_type": "execute_result"
    }
   ],
   "source": [
    "y_prob"
   ]
  },
  {
   "cell_type": "code",
   "execution_count": 21,
   "id": "f826e8f4",
   "metadata": {},
   "outputs": [],
   "source": [
    "#Create a dataframe to store the test data's Y value and the predicted probability value\n",
    "#The original admit column is stored as \"actual_Y\"\n",
    "#The predicted prob is stored in y_prob\n",
    "y_pred_df = pd.DataFrame( { \"actual_Y\": y_test,\n",
    "\"predicted_prob\":y_prob})\n"
   ]
  },
  {
   "cell_type": "code",
   "execution_count": 22,
   "id": "0ff84ef4",
   "metadata": {},
   "outputs": [
    {
     "name": "stdout",
     "output_type": "stream",
     "text": [
      "    actual_Y  predicted_prob\n",
      "288        0        0.378588\n",
      "108        1        0.548985\n",
      "217        0        0.340577\n",
      "70         1        0.554092\n",
      "330        0        0.169099\n"
     ]
    }
   ],
   "source": [
    "print(y_pred_df.head())"
   ]
  },
  {
   "cell_type": "code",
   "execution_count": 23,
   "id": "65ab6ea0",
   "metadata": {},
   "outputs": [
    {
     "name": "stdout",
     "output_type": "stream",
     "text": [
      "    actual_Y  predicted_prob  predicted_Y\n",
      "288        0        0.378588            0\n",
      "108        1        0.548985            1\n",
      "217        0        0.340577            0\n",
      "70         1        0.554092            1\n",
      "330        0        0.169099            0\n"
     ]
    }
   ],
   "source": [
    "##---------------------------------\n",
    "##  Based on default cut-off -0.5\n",
    "##---------------------------------\n",
    "y_pred_df['predicted_Y'] = y_pred_df.predicted_prob.map(\n",
    "lambda x: 1 if x >= 0.5 else 0)\n",
    "print(y_pred_df.head())"
   ]
  },
  {
   "cell_type": "code",
   "execution_count": 24,
   "id": "c50687ea",
   "metadata": {},
   "outputs": [
    {
     "name": "stdout",
     "output_type": "stream",
     "text": [
      "[[65 19]\n",
      " [24 12]]\n"
     ]
    }
   ],
   "source": [
    "from sklearn.metrics import confusion_matrix\n",
    "# Generating the confusion matrix using the DataFrame columns\n",
    "cm = confusion_matrix(y_pred_df['actual_Y'],y_pred_df['predicted_Y'])\n",
    "print(cm)"
   ]
  },
  {
   "cell_type": "code",
   "execution_count": 25,
   "id": "1af53e10",
   "metadata": {},
   "outputs": [
    {
     "data": {
      "image/png": "[encoded data removed]",
      "text/plain": [
       "<Figure size 300x300 with 1 Axes>"
      ]
     },
     "metadata": {},
     "output_type": "display_data"
    }
   ],
   "source": [
    "# Create a heatmap for the confusion matrix\n",
    "plt.figure(figsize=(3,3))\n",
    "sns.heatmap(cm, annot=True, fmt='d', cmap='Blues', cbar=False, \n",
    "            xticklabels=['Predicted 0', 'Predicted 1'], \n",
    "            yticklabels=['Actual 0', 'Actual 1'])\n",
    "plt.title('Confusion Matrix')\n",
    "plt.ylabel('Actual')\n",
    "plt.xlabel('Predicted')\n",
    "plt.show()"
   ]
  },
  {
   "cell_type": "code",
   "execution_count": 26,
   "id": "6e35e001",
   "metadata": {},
   "outputs": [
    {
     "name": "stdout",
     "output_type": "stream",
     "text": [
      "Sensitivity (Recall): 0.33\n",
      "Accuracy: 0.64\n"
     ]
    }
   ],
   "source": [
    "# Calculate Sensitivity (Recall), Specificity, and Accuracy using scikit-learn functions\n",
    "from sklearn.metrics import  accuracy_score, recall_score, precision_score\n",
    "sensitivity = recall_score(y_pred_df['actual_Y'], y_pred_df['predicted_Y'])\n",
    "accuracy = accuracy_score(y_pred_df['actual_Y'], y_pred_df['predicted_Y'])\n",
    "\n",
    "# Print metrics\n",
    "print(f\"Sensitivity (Recall): {sensitivity:.2f}\")\n",
    "print(f\"Accuracy: {accuracy:.2f}\")"
   ]
  },
  {
   "cell_type": "code",
   "execution_count": 27,
   "id": "bd2406b7",
   "metadata": {},
   "outputs": [
    {
     "name": "stdout",
     "output_type": "stream",
     "text": [
      "\n",
      "Classification Report:\n",
      "              precision    recall  f1-score   support\n",
      "\n",
      "           0       0.73      0.77      0.75        84\n",
      "           1       0.39      0.33      0.36        36\n",
      "\n",
      "    accuracy                           0.64       120\n",
      "   macro avg       0.56      0.55      0.55       120\n",
      "weighted avg       0.63      0.64      0.63       120\n",
      "\n"
     ]
    }
   ],
   "source": [
    "from sklearn.metrics import confusion_matrix, classification_report\n",
    "print(\"\\nClassification Report:\")\n",
    "print(classification_report(y_pred_df['actual_Y'],y_pred_df['predicted_Y']))"
   ]
  },
  {
   "cell_type": "code",
   "execution_count": 28,
   "id": "66d5da30",
   "metadata": {},
   "outputs": [],
   "source": [
    "#Implications/ Recommendations\n"
   ]
  },
  {
   "cell_type": "code",
   "execution_count": 29,
   "id": "c9aaac5d",
   "metadata": {},
   "outputs": [],
   "source": [
    "import numpy as np\n",
    "import pandas as pd\n",
    "from sklearn.metrics import confusion_matrix\n",
    "\n",
    "def compute_sensitivity_table(y_actual, y_prob, specific_thresholds=np.arange(0.1, 0.5, 0.01)):\n",
    "    \"\"\"\n",
    "    This function computes and prints a table of sensitivity (TPR) values for specified thresholds (0.1 to 0.5).\n",
    "    \n",
    "    Parameters:\n",
    "    y_actual: array-like\n",
    "        The actual binary labels.\n",
    "    y_prob: array-like\n",
    "        The predicted probabilities for the positive class.\n",
    "    specific_thresholds: array-like, optional\n",
    "        The specific thresholds for which to compute sensitivity. Default is np.arange(0.1, 0.5, 0.01).\n",
    "    \"\"\"\n",
    "    \n",
    "    results = []  # List to store results for the table\n",
    "\n",
    "    for threshold in specific_thresholds:\n",
    "        # Convert predicted probabilities to binary predictions based on the threshold\n",
    "        y_pred = (y_prob >= threshold).astype(int)\n",
    "        \n",
    "        # Get the confusion matrix\n",
    "        tn, fp, fn, tp = confusion_matrix(y_actual, y_pred).ravel()\n",
    "        \n",
    "        # Calculate TPR (Sensitivity)\n",
    "        tpr = tp / (tp + fn) if (tp + fn) > 0 else 0  # Avoid division by zero\n",
    "        \n",
    "        # Append results\n",
    "        results.append({'Threshold': threshold, 'Sensitivity (TPR)': tpr})\n",
    "\n",
    "    # Create a DataFrame for better formatting\n",
    "    sensitivity_table = pd.DataFrame(results)\n",
    "    \n",
    "    # Print the sensitivity table\n",
    "    print(sensitivity_table)"
   ]
  },
  {
   "cell_type": "code",
   "execution_count": 30,
   "id": "c323d472",
   "metadata": {},
   "outputs": [
    {
     "name": "stdout",
     "output_type": "stream",
     "text": [
      "    Threshold  Sensitivity (TPR)\n",
      "0        0.10           1.000000\n",
      "1        0.11           1.000000\n",
      "2        0.12           1.000000\n",
      "3        0.13           1.000000\n",
      "4        0.14           1.000000\n",
      "5        0.15           0.972222\n",
      "6        0.16           0.944444\n",
      "7        0.17           0.944444\n",
      "8        0.18           0.944444\n",
      "9        0.19           0.944444\n",
      "10       0.20           0.916667\n",
      "11       0.21           0.916667\n",
      "12       0.22           0.888889\n",
      "13       0.23           0.861111\n",
      "14       0.24           0.861111\n",
      "15       0.25           0.805556\n",
      "16       0.26           0.805556\n",
      "17       0.27           0.805556\n",
      "18       0.28           0.777778\n",
      "19       0.29           0.722222\n",
      "20       0.30           0.666667\n",
      "21       0.31           0.555556\n",
      "22       0.32           0.527778\n",
      "23       0.33           0.500000\n",
      "24       0.34           0.472222\n",
      "25       0.35           0.444444\n",
      "26       0.36           0.444444\n",
      "27       0.37           0.416667\n",
      "28       0.38           0.416667\n",
      "29       0.39           0.416667\n",
      "30       0.40           0.416667\n",
      "31       0.41           0.416667\n",
      "32       0.42           0.416667\n",
      "33       0.43           0.416667\n",
      "34       0.44           0.416667\n",
      "35       0.45           0.416667\n",
      "36       0.46           0.416667\n",
      "37       0.47           0.416667\n",
      "38       0.48           0.416667\n",
      "39       0.49           0.333333\n"
     ]
    }
   ],
   "source": [
    "compute_sensitivity_table(y_pred_df['actual_Y'], y_pred_df['predicted_prob'])"
   ]
  }
 ],
 "metadata": {
  "kernelspec": {
   "display_name": "Python 3 (ipykernel)",
   "language": "python",
   "name": "python3"
  },
  "language_info": {
   "codemirror_mode": {
    "name": "ipython",
    "version": 3
   },
   "file_extension": ".py",
   "mimetype": "text/x-python",
   "name": "python",
   "nbconvert_exporter": "python",
   "pygments_lexer": "ipython3",
   "version": "3.12.7"
  }
 },
 "nbformat": 4,
 "nbformat_minor": 5
}
