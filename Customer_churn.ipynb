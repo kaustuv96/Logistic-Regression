{
 "cells": [
  {
   "cell_type": "markdown",
   "id": "620a73ae-6561-45bd-a6e0-0b7a96308797",
   "metadata": {},
   "source": [
    "### Business Goal:\n",
    "\n",
    "Build a predictive model to identify who would churn."
   ]
  },
  {
   "cell_type": "code",
   "execution_count": 2,
   "id": "1ebfb259-8116-4a73-98f4-53591efd67ee",
   "metadata": {},
   "outputs": [],
   "source": [
    "import pandas as pd\n",
    "raw_df=pd.read_excel(r\"D:\\Business Analytics\\Important files\\Logistical regression\\telco.xlsx\")"
   ]
  },
  {
   "cell_type": "code",
   "execution_count": 3,
   "id": "ad0934f4-24ed-4f32-8eed-e72cbb02c5ae",
   "metadata": {},
   "outputs": [
    {
     "name": "stdout",
     "output_type": "stream",
     "text": [
      "<class 'pandas.core.frame.DataFrame'>\n",
      "RangeIndex: 7032 entries, 0 to 7031\n",
      "Data columns (total 9 columns):\n",
      " #   Column           Non-Null Count  Dtype  \n",
      "---  ------           --------------  -----  \n",
      " 0   customerID       7032 non-null   object \n",
      " 1   gender           7032 non-null   object \n",
      " 2   SeniorCitizen    7032 non-null   int64  \n",
      " 3   Dependents       7032 non-null   object \n",
      " 4   tenure           7032 non-null   int64  \n",
      " 5   InternetService  7032 non-null   object \n",
      " 6   PaymentMethod    7032 non-null   object \n",
      " 7   TotalCharges     7032 non-null   float64\n",
      " 8   Churn            7032 non-null   int64  \n",
      "dtypes: float64(1), int64(3), object(5)\n",
      "memory usage: 494.6+ KB\n"
     ]
    }
   ],
   "source": [
    "raw_df.info()"
   ]
  },
  {
   "cell_type": "code",
   "execution_count": 4,
   "id": "f56ca96b-87f8-4f7d-ace7-8a604e415251",
   "metadata": {},
   "outputs": [
    {
     "data": {
      "text/html": [
       "<div>\n",
       "<style scoped>\n",
       "    .dataframe tbody tr th:only-of-type {\n",
       "        vertical-align: middle;\n",
       "    }\n",
       "\n",
       "    .dataframe tbody tr th {\n",
       "        vertical-align: top;\n",
       "    }\n",
       "\n",
       "    .dataframe thead th {\n",
       "        text-align: right;\n",
       "    }\n",
       "</style>\n",
       "<table border=\"1\" class=\"dataframe\">\n",
       "  <thead>\n",
       "    <tr style=\"text-align: right;\">\n",
       "      <th></th>\n",
       "      <th>customerID</th>\n",
       "      <th>gender</th>\n",
       "      <th>SeniorCitizen</th>\n",
       "      <th>Dependents</th>\n",
       "      <th>tenure</th>\n",
       "      <th>InternetService</th>\n",
       "      <th>PaymentMethod</th>\n",
       "      <th>TotalCharges</th>\n",
       "      <th>Churn</th>\n",
       "    </tr>\n",
       "  </thead>\n",
       "  <tbody>\n",
       "    <tr>\n",
       "      <th>0</th>\n",
       "      <td>7590-VHVEG</td>\n",
       "      <td>Female</td>\n",
       "      <td>0</td>\n",
       "      <td>No</td>\n",
       "      <td>1</td>\n",
       "      <td>DSL</td>\n",
       "      <td>Electronic check</td>\n",
       "      <td>29.85</td>\n",
       "      <td>0</td>\n",
       "    </tr>\n",
       "    <tr>\n",
       "      <th>1</th>\n",
       "      <td>7795-CFOCW</td>\n",
       "      <td>Male</td>\n",
       "      <td>0</td>\n",
       "      <td>No</td>\n",
       "      <td>45</td>\n",
       "      <td>DSL</td>\n",
       "      <td>Bank transfer (automatic)</td>\n",
       "      <td>1840.75</td>\n",
       "      <td>0</td>\n",
       "    </tr>\n",
       "    <tr>\n",
       "      <th>2</th>\n",
       "      <td>9237-HQITU</td>\n",
       "      <td>Female</td>\n",
       "      <td>0</td>\n",
       "      <td>No</td>\n",
       "      <td>2</td>\n",
       "      <td>Fiber optic</td>\n",
       "      <td>Electronic check</td>\n",
       "      <td>151.65</td>\n",
       "      <td>1</td>\n",
       "    </tr>\n",
       "    <tr>\n",
       "      <th>3</th>\n",
       "      <td>9305-CDSKC</td>\n",
       "      <td>Female</td>\n",
       "      <td>0</td>\n",
       "      <td>No</td>\n",
       "      <td>8</td>\n",
       "      <td>Fiber optic</td>\n",
       "      <td>Electronic check</td>\n",
       "      <td>820.50</td>\n",
       "      <td>1</td>\n",
       "    </tr>\n",
       "    <tr>\n",
       "      <th>4</th>\n",
       "      <td>1452-KIOVK</td>\n",
       "      <td>Male</td>\n",
       "      <td>0</td>\n",
       "      <td>Yes</td>\n",
       "      <td>22</td>\n",
       "      <td>Fiber optic</td>\n",
       "      <td>Credit card (automatic)</td>\n",
       "      <td>1949.40</td>\n",
       "      <td>0</td>\n",
       "    </tr>\n",
       "  </tbody>\n",
       "</table>\n",
       "</div>"
      ],
      "text/plain": [
       "   customerID  gender  SeniorCitizen Dependents  tenure InternetService  \\\n",
       "0  7590-VHVEG  Female              0         No       1             DSL   \n",
       "1  7795-CFOCW    Male              0         No      45             DSL   \n",
       "2  9237-HQITU  Female              0         No       2     Fiber optic   \n",
       "3  9305-CDSKC  Female              0         No       8     Fiber optic   \n",
       "4  1452-KIOVK    Male              0        Yes      22     Fiber optic   \n",
       "\n",
       "               PaymentMethod  TotalCharges  Churn  \n",
       "0           Electronic check         29.85      0  \n",
       "1  Bank transfer (automatic)       1840.75      0  \n",
       "2           Electronic check        151.65      1  \n",
       "3           Electronic check        820.50      1  \n",
       "4    Credit card (automatic)       1949.40      0  "
      ]
     },
     "execution_count": 4,
     "metadata": {},
     "output_type": "execute_result"
    }
   ],
   "source": [
    "raw_df.head()"
   ]
  },
  {
   "cell_type": "code",
   "execution_count": 5,
   "id": "10f3276c-c82a-4a99-8110-d4576355cb45",
   "metadata": {},
   "outputs": [
    {
     "name": "stdout",
     "output_type": "stream",
     "text": [
      "<class 'pandas.core.series.Series'>\n",
      "RangeIndex: 7032 entries, 0 to 7031\n",
      "Series name: Churn\n",
      "Non-Null Count  Dtype   \n",
      "--------------  -----   \n",
      "7032 non-null   category\n",
      "dtypes: category(1)\n",
      "memory usage: 7.1 KB\n",
      "None\n"
     ]
    }
   ],
   "source": [
    "##------------------------------------------\n",
    "##  Identify the Class Label or Y variable\n",
    "##------------------------------------------\n",
    "Y = raw_df.Churn.astype('category')\n",
    "\n",
    "print(Y.info())"
   ]
  },
  {
   "cell_type": "code",
   "execution_count": 6,
   "id": "737af720-5b8e-47ee-81ed-787d5e5b77a2",
   "metadata": {},
   "outputs": [],
   "source": [
    "##-------------------------------------------------------------------\n",
    "##  Select the Predictor Variables into a list called X_features\n",
    "##--------------------------------------------------------------------\n",
    "X_features = list( raw_df.columns )\n",
    "X_features.remove( 'Churn' )\n",
    "X_features.remove( 'customerID')\n",
    "X_features.remove( 'TotalCharges')"
   ]
  },
  {
   "cell_type": "code",
   "execution_count": 7,
   "id": "4b406348-eb16-45bb-9f88-e1c6fbc6f376",
   "metadata": {},
   "outputs": [
    {
     "name": "stdout",
     "output_type": "stream",
     "text": [
      "['gender', 'SeniorCitizen', 'Dependents', 'tenure', 'InternetService', 'PaymentMethod']\n"
     ]
    }
   ],
   "source": [
    "print(X_features)"
   ]
  },
  {
   "cell_type": "code",
   "execution_count": 8,
   "id": "6dd2d6db-a8b8-4606-ab15-eb2656c2e9e5",
   "metadata": {},
   "outputs": [],
   "source": [
    "##------------------------------------------\n",
    "##  Set up a dataframe with only X-variables\n",
    "##------------------------------------------\n",
    "X =  raw_df[X_features]"
   ]
  },
  {
   "cell_type": "code",
   "execution_count": 9,
   "id": "f1a3e427-f841-4d26-a0d9-9f31f5b21adc",
   "metadata": {},
   "outputs": [
    {
     "name": "stdout",
     "output_type": "stream",
     "text": [
      "<class 'pandas.core.series.Series'>\n",
      "Index: 4922 entries, 848 to 7002\n",
      "Series name: Churn\n",
      "Non-Null Count  Dtype   \n",
      "--------------  -----   \n",
      "4922 non-null   category\n",
      "dtypes: category(1)\n",
      "memory usage: 43.4 KB\n",
      "None\n"
     ]
    }
   ],
   "source": [
    "##-----------------------------------------\n",
    "##  Split the Data into Training and Test\n",
    "##  test size=0.3 indicates 70% training and\n",
    "##  30% test data\n",
    "##-----------------------------------------\n",
    "from sklearn.model_selection import train_test_split\n",
    "X_train, X_test, y_train, y_test = train_test_split(X,\n",
    "Y,\n",
    "test_size = 0.3,\n",
    "random_state = 500)\n",
    "print(y_train.info())\n",
    "\n",
    "##############################################################################\n",
    "##  All data processing should be done after split to prevent data leakage  ##\n",
    "##############################################################################"
   ]
  },
  {
   "cell_type": "code",
   "execution_count": 10,
   "id": "30972aa6-96ae-41df-aa22-eb925d910d39",
   "metadata": {},
   "outputs": [],
   "source": [
    "##############################################################################\n",
    "##  Pre-process X-vars   ##\n",
    "##############################################################################\n",
    "\n",
    "##-----------------------------------------------------------------------\n",
    "##  1. Identify and dummy code (one-hot encoding) the categorical column\n",
    "##-----------------------------------------------------------------------\n",
    "# List of categorical columns\n",
    "categorical_columns = ['gender','Dependents','InternetService','PaymentMethod']\n",
    "X_train_encoded = pd.get_dummies(X_train, columns=categorical_columns,drop_first = True,dtype=int )\n",
    "X_test_encoded = pd.get_dummies(X_test, columns=categorical_columns,drop_first = True ,dtype=int)"
   ]
  },
  {
   "cell_type": "code",
   "execution_count": 11,
   "id": "3243b135-5eb3-46f3-a830-212813e77bae",
   "metadata": {},
   "outputs": [
    {
     "name": "stdout",
     "output_type": "stream",
     "text": [
      "<class 'pandas.core.frame.DataFrame'>\n",
      "Index: 4922 entries, 848 to 7002\n",
      "Data columns (total 9 columns):\n",
      " #   Column                                 Non-Null Count  Dtype\n",
      "---  ------                                 --------------  -----\n",
      " 0   SeniorCitizen                          4922 non-null   int64\n",
      " 1   tenure                                 4922 non-null   int64\n",
      " 2   gender_Male                            4922 non-null   int32\n",
      " 3   Dependents_Yes                         4922 non-null   int32\n",
      " 4   InternetService_Fiber optic            4922 non-null   int32\n",
      " 5   InternetService_No                     4922 non-null   int32\n",
      " 6   PaymentMethod_Credit card (automatic)  4922 non-null   int32\n",
      " 7   PaymentMethod_Electronic check         4922 non-null   int32\n",
      " 8   PaymentMethod_Mailed check             4922 non-null   int32\n",
      "dtypes: int32(7), int64(2)\n",
      "memory usage: 249.9 KB\n"
     ]
    }
   ],
   "source": [
    "X_train_encoded.info()"
   ]
  },
  {
   "cell_type": "code",
   "execution_count": 12,
   "id": "34b13881-670a-4ba5-af4c-001eebb5942e",
   "metadata": {},
   "outputs": [
    {
     "data": {
      "text/html": [
       "<div>\n",
       "<style scoped>\n",
       "    .dataframe tbody tr th:only-of-type {\n",
       "        vertical-align: middle;\n",
       "    }\n",
       "\n",
       "    .dataframe tbody tr th {\n",
       "        vertical-align: top;\n",
       "    }\n",
       "\n",
       "    .dataframe thead th {\n",
       "        text-align: right;\n",
       "    }\n",
       "</style>\n",
       "<table border=\"1\" class=\"dataframe\">\n",
       "  <thead>\n",
       "    <tr style=\"text-align: right;\">\n",
       "      <th></th>\n",
       "      <th>SeniorCitizen</th>\n",
       "      <th>tenure</th>\n",
       "      <th>gender_Male</th>\n",
       "      <th>Dependents_Yes</th>\n",
       "      <th>InternetService_Fiber optic</th>\n",
       "      <th>InternetService_No</th>\n",
       "      <th>PaymentMethod_Credit card (automatic)</th>\n",
       "      <th>PaymentMethod_Electronic check</th>\n",
       "      <th>PaymentMethod_Mailed check</th>\n",
       "    </tr>\n",
       "  </thead>\n",
       "  <tbody>\n",
       "    <tr>\n",
       "      <th>848</th>\n",
       "      <td>0</td>\n",
       "      <td>40</td>\n",
       "      <td>0</td>\n",
       "      <td>0</td>\n",
       "      <td>0</td>\n",
       "      <td>0</td>\n",
       "      <td>0</td>\n",
       "      <td>0</td>\n",
       "      <td>1</td>\n",
       "    </tr>\n",
       "    <tr>\n",
       "      <th>3894</th>\n",
       "      <td>1</td>\n",
       "      <td>57</td>\n",
       "      <td>1</td>\n",
       "      <td>0</td>\n",
       "      <td>0</td>\n",
       "      <td>0</td>\n",
       "      <td>1</td>\n",
       "      <td>0</td>\n",
       "      <td>0</td>\n",
       "    </tr>\n",
       "    <tr>\n",
       "      <th>1038</th>\n",
       "      <td>1</td>\n",
       "      <td>72</td>\n",
       "      <td>0</td>\n",
       "      <td>0</td>\n",
       "      <td>1</td>\n",
       "      <td>0</td>\n",
       "      <td>0</td>\n",
       "      <td>0</td>\n",
       "      <td>0</td>\n",
       "    </tr>\n",
       "    <tr>\n",
       "      <th>5816</th>\n",
       "      <td>0</td>\n",
       "      <td>1</td>\n",
       "      <td>0</td>\n",
       "      <td>0</td>\n",
       "      <td>0</td>\n",
       "      <td>0</td>\n",
       "      <td>0</td>\n",
       "      <td>1</td>\n",
       "      <td>0</td>\n",
       "    </tr>\n",
       "    <tr>\n",
       "      <th>4515</th>\n",
       "      <td>0</td>\n",
       "      <td>4</td>\n",
       "      <td>1</td>\n",
       "      <td>0</td>\n",
       "      <td>0</td>\n",
       "      <td>1</td>\n",
       "      <td>0</td>\n",
       "      <td>0</td>\n",
       "      <td>1</td>\n",
       "    </tr>\n",
       "  </tbody>\n",
       "</table>\n",
       "</div>"
      ],
      "text/plain": [
       "      SeniorCitizen  tenure  gender_Male  Dependents_Yes  \\\n",
       "848               0      40            0               0   \n",
       "3894              1      57            1               0   \n",
       "1038              1      72            0               0   \n",
       "5816              0       1            0               0   \n",
       "4515              0       4            1               0   \n",
       "\n",
       "      InternetService_Fiber optic  InternetService_No  \\\n",
       "848                             0                   0   \n",
       "3894                            0                   0   \n",
       "1038                            1                   0   \n",
       "5816                            0                   0   \n",
       "4515                            0                   1   \n",
       "\n",
       "      PaymentMethod_Credit card (automatic)  PaymentMethod_Electronic check  \\\n",
       "848                                       0                               0   \n",
       "3894                                      1                               0   \n",
       "1038                                      0                               0   \n",
       "5816                                      0                               1   \n",
       "4515                                      0                               0   \n",
       "\n",
       "      PaymentMethod_Mailed check  \n",
       "848                            1  \n",
       "3894                           0  \n",
       "1038                           0  \n",
       "5816                           0  \n",
       "4515                           1  "
      ]
     },
     "execution_count": 12,
     "metadata": {},
     "output_type": "execute_result"
    }
   ],
   "source": [
    "X_train_encoded.head()"
   ]
  },
  {
   "cell_type": "code",
   "execution_count": 13,
   "id": "53dfaf5f-d7e2-46ee-a4cf-17194271552e",
   "metadata": {},
   "outputs": [
    {
     "data": {
      "image/png": "[encoded data removed]",
      "text/plain": [
       "<Figure size 800x600 with 2 Axes>"
      ]
     },
     "metadata": {},
     "output_type": "display_data"
    }
   ],
   "source": [
    "##-----------------------------------------------------------------------\n",
    "##  2. Identify and and remove highly correlated columns\n",
    "##-----------------------------------------------------------------------\n",
    "import matplotlib.pyplot as plt\n",
    "import seaborn as sns\n",
    "corr_matrix = X_train_encoded.corr(numeric_only=True)\n",
    "plt.figure(figsize=(8, 6))\n",
    "sns.heatmap(corr_matrix.round(2), annot=True, cmap='coolwarm', linewidths=0.5)\n",
    "plt.title('Correlation Heatmap')\n",
    "plt.show()"
   ]
  },
  {
   "cell_type": "code",
   "execution_count": 27,
   "id": "730c6318-1640-4a48-a5e8-ddd732483634",
   "metadata": {},
   "outputs": [],
   "source": [
    "corr_matrix.to_excel('telco-corr.matrix.xlsx', index=False)"
   ]
  },
  {
   "cell_type": "code",
   "execution_count": 29,
   "id": "95e1ee8d-2428-4c3a-99b3-ba2ee60cd5d7",
   "metadata": {},
   "outputs": [
    {
     "data": {
      "text/html": [
       "<div>\n",
       "<style scoped>\n",
       "    .dataframe tbody tr th:only-of-type {\n",
       "        vertical-align: middle;\n",
       "    }\n",
       "\n",
       "    .dataframe tbody tr th {\n",
       "        vertical-align: top;\n",
       "    }\n",
       "\n",
       "    .dataframe thead th {\n",
       "        text-align: right;\n",
       "    }\n",
       "</style>\n",
       "<table border=\"1\" class=\"dataframe\">\n",
       "  <thead>\n",
       "    <tr style=\"text-align: right;\">\n",
       "      <th></th>\n",
       "      <th>SeniorCitizen</th>\n",
       "      <th>tenure</th>\n",
       "      <th>gender_Male</th>\n",
       "      <th>Dependents_Yes</th>\n",
       "      <th>InternetService_Fiber optic</th>\n",
       "      <th>InternetService_No</th>\n",
       "      <th>PaymentMethod_Credit card (automatic)</th>\n",
       "      <th>PaymentMethod_Electronic check</th>\n",
       "      <th>PaymentMethod_Mailed check</th>\n",
       "    </tr>\n",
       "  </thead>\n",
       "  <tbody>\n",
       "    <tr>\n",
       "      <th>SeniorCitizen</th>\n",
       "      <td>1.00</td>\n",
       "      <td>0.02</td>\n",
       "      <td>-0.01</td>\n",
       "      <td>-0.22</td>\n",
       "      <td>0.26</td>\n",
       "      <td>-0.18</td>\n",
       "      <td>-0.03</td>\n",
       "      <td>0.18</td>\n",
       "      <td>-0.16</td>\n",
       "    </tr>\n",
       "    <tr>\n",
       "      <th>tenure</th>\n",
       "      <td>0.02</td>\n",
       "      <td>1.00</td>\n",
       "      <td>0.01</td>\n",
       "      <td>0.17</td>\n",
       "      <td>0.02</td>\n",
       "      <td>-0.05</td>\n",
       "      <td>0.24</td>\n",
       "      <td>-0.21</td>\n",
       "      <td>-0.23</td>\n",
       "    </tr>\n",
       "    <tr>\n",
       "      <th>gender_Male</th>\n",
       "      <td>-0.01</td>\n",
       "      <td>0.01</td>\n",
       "      <td>1.00</td>\n",
       "      <td>0.02</td>\n",
       "      <td>-0.01</td>\n",
       "      <td>0.01</td>\n",
       "      <td>0.00</td>\n",
       "      <td>-0.00</td>\n",
       "      <td>0.00</td>\n",
       "    </tr>\n",
       "    <tr>\n",
       "      <th>Dependents_Yes</th>\n",
       "      <td>-0.22</td>\n",
       "      <td>0.17</td>\n",
       "      <td>0.02</td>\n",
       "      <td>1.00</td>\n",
       "      <td>-0.18</td>\n",
       "      <td>0.14</td>\n",
       "      <td>0.06</td>\n",
       "      <td>-0.16</td>\n",
       "      <td>0.05</td>\n",
       "    </tr>\n",
       "    <tr>\n",
       "      <th>InternetService_Fiber optic</th>\n",
       "      <td>0.26</td>\n",
       "      <td>0.02</td>\n",
       "      <td>-0.01</td>\n",
       "      <td>-0.18</td>\n",
       "      <td>1.00</td>\n",
       "      <td>-0.47</td>\n",
       "      <td>-0.05</td>\n",
       "      <td>0.34</td>\n",
       "      <td>-0.31</td>\n",
       "    </tr>\n",
       "    <tr>\n",
       "      <th>InternetService_No</th>\n",
       "      <td>-0.18</td>\n",
       "      <td>-0.05</td>\n",
       "      <td>0.01</td>\n",
       "      <td>0.14</td>\n",
       "      <td>-0.47</td>\n",
       "      <td>1.00</td>\n",
       "      <td>-0.00</td>\n",
       "      <td>-0.28</td>\n",
       "      <td>0.31</td>\n",
       "    </tr>\n",
       "    <tr>\n",
       "      <th>PaymentMethod_Credit card (automatic)</th>\n",
       "      <td>-0.03</td>\n",
       "      <td>0.24</td>\n",
       "      <td>0.00</td>\n",
       "      <td>0.06</td>\n",
       "      <td>-0.05</td>\n",
       "      <td>-0.00</td>\n",
       "      <td>1.00</td>\n",
       "      <td>-0.37</td>\n",
       "      <td>-0.28</td>\n",
       "    </tr>\n",
       "    <tr>\n",
       "      <th>PaymentMethod_Electronic check</th>\n",
       "      <td>0.18</td>\n",
       "      <td>-0.21</td>\n",
       "      <td>-0.00</td>\n",
       "      <td>-0.16</td>\n",
       "      <td>0.34</td>\n",
       "      <td>-0.28</td>\n",
       "      <td>-0.37</td>\n",
       "      <td>1.00</td>\n",
       "      <td>-0.38</td>\n",
       "    </tr>\n",
       "    <tr>\n",
       "      <th>PaymentMethod_Mailed check</th>\n",
       "      <td>-0.16</td>\n",
       "      <td>-0.23</td>\n",
       "      <td>0.00</td>\n",
       "      <td>0.05</td>\n",
       "      <td>-0.31</td>\n",
       "      <td>0.31</td>\n",
       "      <td>-0.28</td>\n",
       "      <td>-0.38</td>\n",
       "      <td>1.00</td>\n",
       "    </tr>\n",
       "  </tbody>\n",
       "</table>\n",
       "</div>"
      ],
      "text/plain": [
       "                                       SeniorCitizen  tenure  gender_Male  \\\n",
       "SeniorCitizen                                   1.00    0.02        -0.01   \n",
       "tenure                                          0.02    1.00         0.01   \n",
       "gender_Male                                    -0.01    0.01         1.00   \n",
       "Dependents_Yes                                 -0.22    0.17         0.02   \n",
       "InternetService_Fiber optic                     0.26    0.02        -0.01   \n",
       "InternetService_No                             -0.18   -0.05         0.01   \n",
       "PaymentMethod_Credit card (automatic)          -0.03    0.24         0.00   \n",
       "PaymentMethod_Electronic check                  0.18   -0.21        -0.00   \n",
       "PaymentMethod_Mailed check                     -0.16   -0.23         0.00   \n",
       "\n",
       "                                       Dependents_Yes  \\\n",
       "SeniorCitizen                                   -0.22   \n",
       "tenure                                           0.17   \n",
       "gender_Male                                      0.02   \n",
       "Dependents_Yes                                   1.00   \n",
       "InternetService_Fiber optic                     -0.18   \n",
       "InternetService_No                               0.14   \n",
       "PaymentMethod_Credit card (automatic)            0.06   \n",
       "PaymentMethod_Electronic check                  -0.16   \n",
       "PaymentMethod_Mailed check                       0.05   \n",
       "\n",
       "                                       InternetService_Fiber optic  \\\n",
       "SeniorCitizen                                                 0.26   \n",
       "tenure                                                        0.02   \n",
       "gender_Male                                                  -0.01   \n",
       "Dependents_Yes                                               -0.18   \n",
       "InternetService_Fiber optic                                   1.00   \n",
       "InternetService_No                                           -0.47   \n",
       "PaymentMethod_Credit card (automatic)                        -0.05   \n",
       "PaymentMethod_Electronic check                                0.34   \n",
       "PaymentMethod_Mailed check                                   -0.31   \n",
       "\n",
       "                                       InternetService_No  \\\n",
       "SeniorCitizen                                       -0.18   \n",
       "tenure                                              -0.05   \n",
       "gender_Male                                          0.01   \n",
       "Dependents_Yes                                       0.14   \n",
       "InternetService_Fiber optic                         -0.47   \n",
       "InternetService_No                                   1.00   \n",
       "PaymentMethod_Credit card (automatic)               -0.00   \n",
       "PaymentMethod_Electronic check                      -0.28   \n",
       "PaymentMethod_Mailed check                           0.31   \n",
       "\n",
       "                                       PaymentMethod_Credit card (automatic)  \\\n",
       "SeniorCitizen                                                          -0.03   \n",
       "tenure                                                                  0.24   \n",
       "gender_Male                                                             0.00   \n",
       "Dependents_Yes                                                          0.06   \n",
       "InternetService_Fiber optic                                            -0.05   \n",
       "InternetService_No                                                     -0.00   \n",
       "PaymentMethod_Credit card (automatic)                                   1.00   \n",
       "PaymentMethod_Electronic check                                         -0.37   \n",
       "PaymentMethod_Mailed check                                             -0.28   \n",
       "\n",
       "                                       PaymentMethod_Electronic check  \\\n",
       "SeniorCitizen                                                    0.18   \n",
       "tenure                                                          -0.21   \n",
       "gender_Male                                                     -0.00   \n",
       "Dependents_Yes                                                  -0.16   \n",
       "InternetService_Fiber optic                                      0.34   \n",
       "InternetService_No                                              -0.28   \n",
       "PaymentMethod_Credit card (automatic)                           -0.37   \n",
       "PaymentMethod_Electronic check                                   1.00   \n",
       "PaymentMethod_Mailed check                                      -0.38   \n",
       "\n",
       "                                       PaymentMethod_Mailed check  \n",
       "SeniorCitizen                                               -0.16  \n",
       "tenure                                                      -0.23  \n",
       "gender_Male                                                  0.00  \n",
       "Dependents_Yes                                               0.05  \n",
       "InternetService_Fiber optic                                 -0.31  \n",
       "InternetService_No                                           0.31  \n",
       "PaymentMethod_Credit card (automatic)                       -0.28  \n",
       "PaymentMethod_Electronic check                              -0.38  \n",
       "PaymentMethod_Mailed check                                   1.00  "
      ]
     },
     "execution_count": 29,
     "metadata": {},
     "output_type": "execute_result"
    }
   ],
   "source": [
    "corr_matrix.round(2)"
   ]
  },
  {
   "cell_type": "code",
   "execution_count": 31,
   "id": "a0379e3e-29c1-4a75-80aa-6e820a693c9c",
   "metadata": {},
   "outputs": [
    {
     "name": "stdout",
     "output_type": "stream",
     "text": [
      "Optimization terminated successfully.\n",
      "         Current function value: 0.434223\n",
      "         Iterations 7\n",
      "                                    Results: Logit\n",
      "======================================================================================\n",
      "Model:                      Logit                  Method:                 MLE        \n",
      "Dependent Variable:         Churn                  Pseudo R-squared:       0.249      \n",
      "Date:                       2024-10-07 21:34       AIC:                    4294.4947  \n",
      "No. Observations:           4922                   BIC:                    4359.5094  \n",
      "Df Model:                   9                      Log-Likelihood:         -2137.2    \n",
      "Df Residuals:               4912                   LL-Null:                -2846.7    \n",
      "Converged:                  1.0000                 LLR p-value:            6.4080e-300\n",
      "No. Iterations:             7.0000                 Scale:                  1.0000     \n",
      "--------------------------------------------------------------------------------------\n",
      "                                       Coef.  Std.Err.    z     P>|z|   [0.025  0.975]\n",
      "--------------------------------------------------------------------------------------\n",
      "const                                 -0.4799   0.1282  -3.7444 0.0002 -0.7311 -0.2287\n",
      "SeniorCitizen                          0.3352   0.0991   3.3813 0.0007  0.1409  0.5296\n",
      "tenure                                -0.0426   0.0020 -21.7132 0.0000 -0.0464 -0.0387\n",
      "gender_Male                            0.0178   0.0761   0.2345 0.8146 -0.1312  0.1669\n",
      "Dependents_Yes                        -0.2881   0.0946  -3.0470 0.0023 -0.4735 -0.1028\n",
      "InternetService_Fiber optic            1.1350   0.0892  12.7275 0.0000  0.9602  1.3098\n",
      "InternetService_No                    -1.1384   0.1448  -7.8632 0.0000 -1.4222 -0.8547\n",
      "PaymentMethod_Credit card (automatic) -0.1044   0.1318  -0.7922 0.4282 -0.3627  0.1539\n",
      "PaymentMethod_Electronic check         0.5154   0.1087   4.7404 0.0000  0.3023  0.7286\n",
      "PaymentMethod_Mailed check            -0.0555   0.1314  -0.4229 0.6724 -0.3130  0.2019\n",
      "======================================================================================\n",
      "\n"
     ]
    }
   ],
   "source": [
    "##-------------------------\n",
    "##  Build the logit model\n",
    "##-------------------------\n",
    "import statsmodels.api as sm\n",
    "##  Constant is to be added when using the sm library\n",
    "X_train_encoded = sm.add_constant( X_train_encoded )\n",
    "#Call Logistic regression with X and Y variables of the training data\n",
    "# Model is built with the training data\n",
    "logit = sm.Logit(y_train, X_train_encoded)\n",
    "##  Fit the model and display results\n",
    "logit_model = logit.fit()\n",
    "print(logit_model.summary2())"
   ]
  },
  {
   "cell_type": "code",
   "execution_count": 33,
   "id": "2edac099-2e97-4b9e-8be9-2087714277df",
   "metadata": {},
   "outputs": [
    {
     "name": "stdout",
     "output_type": "stream",
     "text": [
      "['const', 'SeniorCitizen', 'tenure', 'Dependents_Yes', 'InternetService_Fiber optic', 'InternetService_No', 'PaymentMethod_Electronic check']\n"
     ]
    }
   ],
   "source": [
    "#Only significant X-vars are used to build the predictive model.\n",
    "#Select the significant variables\n",
    "significant_vars = ['const','SeniorCitizen','tenure','Dependents_Yes','InternetService_Fiber optic','InternetService_No','PaymentMethod_Electronic check']\n",
    "print(significant_vars)"
   ]
  },
  {
   "cell_type": "code",
   "execution_count": 35,
   "id": "2efc5df0-e0fb-400a-8332-6000255868ea",
   "metadata": {},
   "outputs": [
    {
     "name": "stdout",
     "output_type": "stream",
     "text": [
      "Optimization terminated successfully.\n",
      "         Current function value: 0.434293\n",
      "         Iterations 7\n",
      "                                Results: Logit\n",
      "===============================================================================\n",
      "Model:                   Logit                Method:               MLE        \n",
      "Dependent Variable:      Churn                Pseudo R-squared:     0.249      \n",
      "Date:                    2024-10-07 21:35     AIC:                  4289.1808  \n",
      "No. Observations:        4922                 BIC:                  4334.6911  \n",
      "Df Model:                6                    Log-Likelihood:       -2137.6    \n",
      "Df Residuals:            4915                 LL-Null:              -2846.7    \n",
      "Converged:               1.0000               LLR p-value:          2.7707e-303\n",
      "No. Iterations:          7.0000               Scale:                1.0000     \n",
      "-------------------------------------------------------------------------------\n",
      "                                Coef.  Std.Err.    z     P>|z|   [0.025  0.975]\n",
      "-------------------------------------------------------------------------------\n",
      "const                          -0.5246   0.0870  -6.0276 0.0000 -0.6952 -0.3540\n",
      "SeniorCitizen                   0.3364   0.0991   3.3953 0.0007  0.1422  0.5306\n",
      "tenure                         -0.0426   0.0019 -22.3688 0.0000 -0.0463 -0.0389\n",
      "Dependents_Yes                 -0.2869   0.0945  -3.0352 0.0024 -0.4722 -0.1016\n",
      "InternetService_Fiber optic     1.1370   0.0884  12.8592 0.0000  0.9637  1.3103\n",
      "InternetService_No             -1.1388   0.1435  -7.9360 0.0000 -1.4201 -0.8576\n",
      "PaymentMethod_Electronic check  0.5670   0.0801   7.0758 0.0000  0.4099  0.7240\n",
      "===============================================================================\n",
      "\n"
     ]
    }
   ],
   "source": [
    "##-------------------------------------------------------\n",
    "##  Revise model to include only significant predictors\n",
    "##-------------------------------------------------------\n",
    "#final_logit holds the logistic regression equation aka -the model\n",
    "#Only significant X-vars are used to build the predictive model\n",
    "X_train_encoded = sm.add_constant(X_train_encoded)\n",
    "final_logit_model = sm.Logit( y_train,X_train_encoded[significant_vars] ).fit()\n",
    "print(final_logit_model.summary2())"
   ]
  },
  {
   "cell_type": "code",
   "execution_count": 37,
   "id": "3b43c88e-3d10-4d6a-9318-69639887315c",
   "metadata": {},
   "outputs": [],
   "source": [
    "##----------------------------\n",
    "##  Apply model on test data\n",
    "##----------------------------\n",
    "X_test_encoded=sm.add_constant(X_test_encoded)\n",
    "#Make sure only the significant variables in the test data are selected\n",
    "X_test_sig_vars=X_test_encoded[significant_vars]\n",
    "X_test_sig_vars\n",
    "y_prob=final_logit_model.predict(X_test_sig_vars)\n",
    "#y_prob holds the probability values for each record in the test data"
   ]
  },
  {
   "cell_type": "code",
   "execution_count": 39,
   "id": "fe93bc7f-f53b-4ecb-a06d-d3b605cb7afe",
   "metadata": {},
   "outputs": [
    {
     "data": {
      "text/plain": [
       "1173    0.284827\n",
       "3591    0.028162\n",
       "1074    0.281492\n",
       "6718    0.161842\n",
       "1030    0.103101\n",
       "          ...   \n",
       "2812    0.617833\n",
       "5291    0.019662\n",
       "3024    0.304852\n",
       "6026    0.298575\n",
       "1954    0.703417\n",
       "Length: 2110, dtype: float64"
      ]
     },
     "execution_count": 39,
     "metadata": {},
     "output_type": "execute_result"
    }
   ],
   "source": [
    "y_prob"
   ]
  },
  {
   "cell_type": "code",
   "execution_count": 41,
   "id": "51664c2b-1585-42b8-a1bc-77bed92b42e6",
   "metadata": {},
   "outputs": [],
   "source": [
    "#Create a dataframe to store the test data's Y value and the predicted probability value\n",
    "#The original admit column is stored as \"actual_Y\"\n",
    "#The predicted prob is stored in y_prob\n",
    "y_pred_df = pd.DataFrame( { \"actual_Y\": y_test,\n",
    "\"predicted_prob\":y_prob})"
   ]
  },
  {
   "cell_type": "code",
   "execution_count": 43,
   "id": "3bad4ef0-5a51-4ff2-b57a-831746bafe4b",
   "metadata": {},
   "outputs": [
    {
     "name": "stdout",
     "output_type": "stream",
     "text": [
      "     actual_Y  predicted_prob\n",
      "1173        0        0.284827\n",
      "3591        1        0.028162\n",
      "1074        0        0.281492\n",
      "6718        1        0.161842\n",
      "1030        0        0.103101\n"
     ]
    }
   ],
   "source": [
    "print(y_pred_df.head())"
   ]
  },
  {
   "cell_type": "code",
   "execution_count": 45,
   "id": "f76422dc-7bf3-4b61-a554-17a3d33bdf6d",
   "metadata": {},
   "outputs": [
    {
     "name": "stdout",
     "output_type": "stream",
     "text": [
      "     actual_Y  predicted_prob  predicted_Y\n",
      "1173        0        0.284827            0\n",
      "3591        1        0.028162            0\n",
      "1074        0        0.281492            0\n",
      "6718        1        0.161842            0\n",
      "1030        0        0.103101            0\n"
     ]
    }
   ],
   "source": [
    "##---------------------------------\n",
    "##  Based on default cut-off -0.5\n",
    "##---------------------------------\n",
    "y_pred_df['predicted_Y'] = y_pred_df.predicted_prob.map(\n",
    "lambda x: 1 if x >= 0.5 else 0)\n",
    "print(y_pred_df.head())"
   ]
  },
  {
   "cell_type": "code",
   "execution_count": 47,
   "id": "aa56c36b-e803-4d5f-8b5f-e30b3157fce8",
   "metadata": {},
   "outputs": [
    {
     "name": "stdout",
     "output_type": "stream",
     "text": [
      "[[1423  123]\n",
      " [ 306  258]]\n"
     ]
    }
   ],
   "source": [
    "from sklearn.metrics import confusion_matrix\n",
    "# Generating the confusion matrix using the DataFrame columns\n",
    "cm = confusion_matrix(y_pred_df['actual_Y'],y_pred_df['predicted_Y'])\n",
    "print(cm)"
   ]
  },
  {
   "cell_type": "code",
   "execution_count": 49,
   "id": "204a13c7-991a-4f61-8974-5bd7f3c85331",
   "metadata": {},
   "outputs": [
    {
     "data": {
      "image/png": "[encoded data removed]",
      "text/plain": [
       "<Figure size 300x300 with 1 Axes>"
      ]
     },
     "metadata": {},
     "output_type": "display_data"
    }
   ],
   "source": [
    "# Create a heatmap for the confusion matrix\n",
    "plt.figure(figsize=(3,3))\n",
    "sns.heatmap(cm, annot=True, fmt='d', cmap='Blues', cbar=False, \n",
    "            xticklabels=['Predicted 0', 'Predicted 1'], \n",
    "            yticklabels=['Actual 0', 'Actual 1'])\n",
    "plt.title('Confusion Matrix')\n",
    "plt.ylabel('Actual')\n",
    "plt.xlabel('Predicted')\n",
    "plt.show()"
   ]
  },
  {
   "cell_type": "code",
   "execution_count": 51,
   "id": "e821397f-59fa-42a0-aeed-93a208d8105e",
   "metadata": {},
   "outputs": [
    {
     "name": "stdout",
     "output_type": "stream",
     "text": [
      "Sensitivity (Recall): 0.46\n",
      "Accuracy: 0.80\n"
     ]
    }
   ],
   "source": [
    "# Calculate Sensitivity (Recall), Specificity, and Accuracy using scikit-learn functions\n",
    "from sklearn.metrics import  accuracy_score, recall_score, precision_score\n",
    "sensitivity = recall_score(y_pred_df['actual_Y'], y_pred_df['predicted_Y'])\n",
    "accuracy = accuracy_score(y_pred_df['actual_Y'], y_pred_df['predicted_Y'])\n",
    "\n",
    "# Print metrics\n",
    "print(f\"Sensitivity (Recall): {sensitivity:.2f}\")\n",
    "print(f\"Accuracy: {accuracy:.2f}\")"
   ]
  },
  {
   "cell_type": "code",
   "execution_count": 53,
   "id": "cc812676-1292-41f5-bb53-a3e62f0d8cab",
   "metadata": {},
   "outputs": [
    {
     "name": "stdout",
     "output_type": "stream",
     "text": [
      "\n",
      "Classification Report:\n",
      "              precision    recall  f1-score   support\n",
      "\n",
      "           0       0.82      0.92      0.87      1546\n",
      "           1       0.68      0.46      0.55       564\n",
      "\n",
      "    accuracy                           0.80      2110\n",
      "   macro avg       0.75      0.69      0.71      2110\n",
      "weighted avg       0.78      0.80      0.78      2110\n",
      "\n"
     ]
    }
   ],
   "source": [
    "from sklearn.metrics import confusion_matrix, classification_report\n",
    "print(\"\\nClassification Report:\")\n",
    "print(classification_report(y_pred_df['actual_Y'],y_pred_df['predicted_Y']))"
   ]
  },
  {
   "cell_type": "markdown",
   "id": "593041be-38da-4dbd-8997-0736edfbc6ac",
   "metadata": {},
   "source": [
    "### Implications/ Recommendations \n",
    "\n",
    "Accuracy: 80% ((TP+TN)/(TP+TN+FP+FN))\n",
    "Sensitivity: 46% ((TP/(TP+FN))\n",
    "Specificity: 92% ((TN/(TN+FP))"
   ]
  },
  {
   "cell_type": "code",
   "execution_count": 58,
   "id": "4f52725f-a6a0-483a-89eb-49f73398376c",
   "metadata": {},
   "outputs": [],
   "source": [
    "import numpy as np\n",
    "import pandas as pd\n",
    "from sklearn.metrics import confusion_matrix\n",
    "\n",
    "def compute_sensitivity_table(y_actual, y_prob, specific_thresholds=np.arange(0.1, 0.5, 0.01)):\n",
    "    \"\"\"\n",
    "    This function computes and prints a table of sensitivity (TPR) values for specified thresholds (0.1 to 0.5).\n",
    "    \n",
    "    Parameters:\n",
    "    y_actual: array-like\n",
    "        The actual binary labels.\n",
    "    y_prob: array-like\n",
    "        The predicted probabilities for the positive class.\n",
    "    specific_thresholds: array-like, optional\n",
    "        The specific thresholds for which to compute sensitivity. Default is np.arange(0.1, 0.5, 0.01).\n",
    "    \"\"\"\n",
    "    \n",
    "    results = []  # List to store results for the table\n",
    "\n",
    "    for threshold in specific_thresholds:\n",
    "        # Convert predicted probabilities to binary predictions based on the threshold\n",
    "        y_pred = (y_prob >= threshold).astype(int)\n",
    "        \n",
    "        # Get the confusion matrix\n",
    "        tn, fp, fn, tp = confusion_matrix(y_actual, y_pred).ravel()\n",
    "        \n",
    "        # Calculate TPR (Sensitivity)\n",
    "        tpr = tp / (tp + fn) if (tp + fn) > 0 else 0  # Avoid division by zero\n",
    "        \n",
    "        # Append results\n",
    "        results.append({'Threshold': threshold, 'Sensitivity (TPR)': tpr})\n",
    "\n",
    "    # Create a DataFrame for better formatting\n",
    "    sensitivity_table = pd.DataFrame(results)\n",
    "    \n",
    "    # Print the sensitivity table\n",
    "    print(sensitivity_table)"
   ]
  },
  {
   "cell_type": "code",
   "execution_count": 60,
   "id": "453343a6-9106-4113-83f7-80ab0df3227e",
   "metadata": {},
   "outputs": [
    {
     "name": "stdout",
     "output_type": "stream",
     "text": [
      "    Threshold  Sensitivity (TPR)\n",
      "0        0.10           0.945035\n",
      "1        0.11           0.929078\n",
      "2        0.12           0.913121\n",
      "3        0.13           0.909574\n",
      "4        0.14           0.897163\n",
      "5        0.15           0.877660\n",
      "6        0.16           0.845745\n",
      "7        0.17           0.836879\n",
      "8        0.18           0.833333\n",
      "9        0.19           0.829787\n",
      "10       0.20           0.820922\n",
      "11       0.21           0.812057\n",
      "12       0.22           0.806738\n",
      "13       0.23           0.799645\n",
      "14       0.24           0.789007\n",
      "15       0.25           0.776596\n",
      "16       0.26           0.765957\n",
      "17       0.27           0.755319\n",
      "18       0.28           0.746454\n",
      "19       0.29           0.737589\n",
      "20       0.30           0.726950\n",
      "21       0.31           0.718085\n",
      "22       0.32           0.712766\n",
      "23       0.33           0.705674\n",
      "24       0.34           0.700355\n",
      "25       0.35           0.689716\n",
      "26       0.36           0.666667\n",
      "27       0.37           0.632979\n",
      "28       0.38           0.622340\n",
      "29       0.39           0.611702\n",
      "30       0.40           0.599291\n",
      "31       0.41           0.590426\n",
      "32       0.42           0.586879\n",
      "33       0.43           0.576241\n",
      "34       0.44           0.562057\n",
      "35       0.45           0.544326\n",
      "36       0.46           0.526596\n",
      "37       0.47           0.519504\n",
      "38       0.48           0.507092\n",
      "39       0.49           0.487589\n"
     ]
    }
   ],
   "source": [
    "compute_sensitivity_table(y_pred_df['actual_Y'], y_pred_df['predicted_prob'])"
   ]
  },
  {
   "cell_type": "markdown",
   "id": "556cac3b-0325-49c5-b7fe-b936f89de695",
   "metadata": {},
   "source": [
    "### Business decision:\n",
    "\n",
    "The threshold should be lowered to 0.13 for a sensitivity of atleast 90%."
   ]
  },
  {
   "cell_type": "code",
   "execution_count": null,
   "id": "0671b6b4-ac32-454c-ac73-7627eaa375ed",
   "metadata": {},
   "outputs": [],
   "source": []
  }
 ],
 "metadata": {
  "kernelspec": {
   "display_name": "Python 3 (ipykernel)",
   "language": "python",
   "name": "python3"
  },
  "language_info": {
   "codemirror_mode": {
    "name": "ipython",
    "version": 3
   },
   "file_extension": ".py",
   "mimetype": "text/x-python",
   "name": "python",
   "nbconvert_exporter": "python",
   "pygments_lexer": "ipython3",
   "version": "3.12.7"
  }
 },
 "nbformat": 4,
 "nbformat_minor": 5
}
