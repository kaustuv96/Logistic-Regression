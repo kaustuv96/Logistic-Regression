{
 "cells": [
  {
   "cell_type": "markdown",
   "id": "a820c3ed-5359-4c96-8013-91db8d4ece9d",
   "metadata": {},
   "source": [
    "### Business goal:\n",
    "\n",
    "Build a logistic regression model that would help in predicting the defaulters."
   ]
  },
  {
   "cell_type": "code",
   "execution_count": 2,
   "id": "7c196539-513a-4e1c-83a6-231076f0eefa",
   "metadata": {},
   "outputs": [],
   "source": [
    "import pandas as pd\n",
    "raw_df = pd.read_excel(\"D:\\Business Analytics\\Important files\\Logistical regression\\Risk classification\\ClassifyRiskData.xlsx\")"
   ]
  },
  {
   "cell_type": "code",
   "execution_count": 3,
   "id": "95263e76-0641-486a-8024-43840486ea40",
   "metadata": {},
   "outputs": [
    {
     "name": "stdout",
     "output_type": "stream",
     "text": [
      "<class 'pandas.core.frame.DataFrame'>\n",
      "RangeIndex: 246 entries, 0 to 245\n",
      "Data columns (total 6 columns):\n",
      " #   Column          Non-Null Count  Dtype \n",
      "---  ------          --------------  ----- \n",
      " 0   mortgage        246 non-null    object\n",
      " 1   loans           246 non-null    int64 \n",
      " 2   age             246 non-null    int64 \n",
      " 3   marital_status  246 non-null    object\n",
      " 4   income          246 non-null    int64 \n",
      " 5   risk            246 non-null    int64 \n",
      "dtypes: int64(4), object(2)\n",
      "memory usage: 11.7+ KB\n"
     ]
    }
   ],
   "source": [
    "raw_df.info()"
   ]
  },
  {
   "cell_type": "code",
   "execution_count": 4,
   "id": "d2017174-9a5d-4b0a-be6c-1853d31104d4",
   "metadata": {},
   "outputs": [
    {
     "data": {
      "text/html": [
       "<div>\n",
       "<style scoped>\n",
       "    .dataframe tbody tr th:only-of-type {\n",
       "        vertical-align: middle;\n",
       "    }\n",
       "\n",
       "    .dataframe tbody tr th {\n",
       "        vertical-align: top;\n",
       "    }\n",
       "\n",
       "    .dataframe thead th {\n",
       "        text-align: right;\n",
       "    }\n",
       "</style>\n",
       "<table border=\"1\" class=\"dataframe\">\n",
       "  <thead>\n",
       "    <tr style=\"text-align: right;\">\n",
       "      <th></th>\n",
       "      <th>mortgage</th>\n",
       "      <th>loans</th>\n",
       "      <th>age</th>\n",
       "      <th>marital_status</th>\n",
       "      <th>income</th>\n",
       "      <th>risk</th>\n",
       "    </tr>\n",
       "  </thead>\n",
       "  <tbody>\n",
       "    <tr>\n",
       "      <th>0</th>\n",
       "      <td>y</td>\n",
       "      <td>3</td>\n",
       "      <td>34</td>\n",
       "      <td>other</td>\n",
       "      <td>28061</td>\n",
       "      <td>1</td>\n",
       "    </tr>\n",
       "    <tr>\n",
       "      <th>1</th>\n",
       "      <td>n</td>\n",
       "      <td>2</td>\n",
       "      <td>37</td>\n",
       "      <td>other</td>\n",
       "      <td>28009</td>\n",
       "      <td>1</td>\n",
       "    </tr>\n",
       "    <tr>\n",
       "      <th>2</th>\n",
       "      <td>n</td>\n",
       "      <td>2</td>\n",
       "      <td>29</td>\n",
       "      <td>other</td>\n",
       "      <td>27615</td>\n",
       "      <td>1</td>\n",
       "    </tr>\n",
       "  </tbody>\n",
       "</table>\n",
       "</div>"
      ],
      "text/plain": [
       "  mortgage  loans  age marital_status  income  risk\n",
       "0        y      3   34          other   28061     1\n",
       "1        n      2   37          other   28009     1\n",
       "2        n      2   29          other   27615     1"
      ]
     },
     "execution_count": 4,
     "metadata": {},
     "output_type": "execute_result"
    }
   ],
   "source": [
    "raw_df.head(3)"
   ]
  },
  {
   "cell_type": "code",
   "execution_count": 5,
   "id": "20f6be48-2b4d-439c-9985-444eb81e9a42",
   "metadata": {},
   "outputs": [
    {
     "name": "stdout",
     "output_type": "stream",
     "text": [
      "<class 'pandas.core.series.Series'>\n",
      "RangeIndex: 246 entries, 0 to 245\n",
      "Series name: risk\n",
      "Non-Null Count  Dtype   \n",
      "--------------  -----   \n",
      "246 non-null    category\n",
      "dtypes: category(1)\n",
      "memory usage: 502.0 bytes\n",
      "None\n"
     ]
    }
   ],
   "source": [
    "##---------------------------------------\n",
    "## Identify the Class label or Y variable\n",
    "##---------------------------------------\n",
    "Y = raw_df.risk.astype('category')\n",
    "print(Y.info())"
   ]
  },
  {
   "cell_type": "code",
   "execution_count": 6,
   "id": "de565fd3-5d32-4479-a1ab-7d7878e9812f",
   "metadata": {},
   "outputs": [
    {
     "data": {
      "text/plain": [
       "0      1\n",
       "1      1\n",
       "2      1\n",
       "3      1\n",
       "4      1\n",
       "      ..\n",
       "241    0\n",
       "242    0\n",
       "243    0\n",
       "244    0\n",
       "245    0\n",
       "Name: risk, Length: 246, dtype: int64"
      ]
     },
     "execution_count": 6,
     "metadata": {},
     "output_type": "execute_result"
    }
   ],
   "source": [
    "raw_df.risk"
   ]
  },
  {
   "cell_type": "code",
   "execution_count": 23,
   "id": "4d35e55d-2664-421a-842d-f13dc8aa307f",
   "metadata": {},
   "outputs": [],
   "source": [
    "##-----------------------------\n",
    "## Select the Predictor Variables into list called X_features\n",
    "##------------------------------\n",
    "X_features = list(raw_df.columns)\n",
    "# risk is the outcome or Y variable in this step , we are identifying the X variables\n",
    "X_features.remove('risk')"
   ]
  },
  {
   "cell_type": "code",
   "execution_count": 25,
   "id": "7b87e0bb-dfe4-449f-b8d4-4d1b97ed3753",
   "metadata": {},
   "outputs": [
    {
     "name": "stdout",
     "output_type": "stream",
     "text": [
      "['mortgage', 'loans', 'age', 'marital_status', 'income']\n"
     ]
    }
   ],
   "source": [
    "print(X_features)"
   ]
  },
  {
   "cell_type": "code",
   "execution_count": 9,
   "id": "da9750e3-b96d-4612-9c84-e0eae3608cdc",
   "metadata": {},
   "outputs": [],
   "source": [
    "##--------------------------------------\n",
    "## Set up a dataframe with only X-variables\n",
    "##--------------------------------------\n",
    "X = raw_df[X_features]"
   ]
  },
  {
   "cell_type": "code",
   "execution_count": 10,
   "id": "f7646b95-a7f7-46bf-9d9e-79619c9b1062",
   "metadata": {},
   "outputs": [
    {
     "data": {
      "text/html": [
       "<div>\n",
       "<style scoped>\n",
       "    .dataframe tbody tr th:only-of-type {\n",
       "        vertical-align: middle;\n",
       "    }\n",
       "\n",
       "    .dataframe tbody tr th {\n",
       "        vertical-align: top;\n",
       "    }\n",
       "\n",
       "    .dataframe thead th {\n",
       "        text-align: right;\n",
       "    }\n",
       "</style>\n",
       "<table border=\"1\" class=\"dataframe\">\n",
       "  <thead>\n",
       "    <tr style=\"text-align: right;\">\n",
       "      <th></th>\n",
       "      <th>mortgage</th>\n",
       "      <th>loans</th>\n",
       "      <th>age</th>\n",
       "      <th>marital_status</th>\n",
       "      <th>income</th>\n",
       "    </tr>\n",
       "  </thead>\n",
       "  <tbody>\n",
       "    <tr>\n",
       "      <th>0</th>\n",
       "      <td>y</td>\n",
       "      <td>3</td>\n",
       "      <td>34</td>\n",
       "      <td>other</td>\n",
       "      <td>28061</td>\n",
       "    </tr>\n",
       "    <tr>\n",
       "      <th>1</th>\n",
       "      <td>n</td>\n",
       "      <td>2</td>\n",
       "      <td>37</td>\n",
       "      <td>other</td>\n",
       "      <td>28009</td>\n",
       "    </tr>\n",
       "    <tr>\n",
       "      <th>2</th>\n",
       "      <td>n</td>\n",
       "      <td>2</td>\n",
       "      <td>29</td>\n",
       "      <td>other</td>\n",
       "      <td>27615</td>\n",
       "    </tr>\n",
       "    <tr>\n",
       "      <th>3</th>\n",
       "      <td>y</td>\n",
       "      <td>2</td>\n",
       "      <td>33</td>\n",
       "      <td>other</td>\n",
       "      <td>27287</td>\n",
       "    </tr>\n",
       "    <tr>\n",
       "      <th>4</th>\n",
       "      <td>y</td>\n",
       "      <td>2</td>\n",
       "      <td>39</td>\n",
       "      <td>other</td>\n",
       "      <td>26954</td>\n",
       "    </tr>\n",
       "    <tr>\n",
       "      <th>...</th>\n",
       "      <td>...</td>\n",
       "      <td>...</td>\n",
       "      <td>...</td>\n",
       "      <td>...</td>\n",
       "      <td>...</td>\n",
       "    </tr>\n",
       "    <tr>\n",
       "      <th>241</th>\n",
       "      <td>y</td>\n",
       "      <td>0</td>\n",
       "      <td>51</td>\n",
       "      <td>married</td>\n",
       "      <td>46810</td>\n",
       "    </tr>\n",
       "    <tr>\n",
       "      <th>242</th>\n",
       "      <td>y</td>\n",
       "      <td>0</td>\n",
       "      <td>55</td>\n",
       "      <td>married</td>\n",
       "      <td>45710</td>\n",
       "    </tr>\n",
       "    <tr>\n",
       "      <th>243</th>\n",
       "      <td>y</td>\n",
       "      <td>0</td>\n",
       "      <td>51</td>\n",
       "      <td>married</td>\n",
       "      <td>44896</td>\n",
       "    </tr>\n",
       "    <tr>\n",
       "      <th>244</th>\n",
       "      <td>y</td>\n",
       "      <td>0</td>\n",
       "      <td>54</td>\n",
       "      <td>married</td>\n",
       "      <td>44302</td>\n",
       "    </tr>\n",
       "    <tr>\n",
       "      <th>245</th>\n",
       "      <td>y</td>\n",
       "      <td>1</td>\n",
       "      <td>60</td>\n",
       "      <td>married</td>\n",
       "      <td>54096</td>\n",
       "    </tr>\n",
       "  </tbody>\n",
       "</table>\n",
       "<p>246 rows × 5 columns</p>\n",
       "</div>"
      ],
      "text/plain": [
       "    mortgage  loans  age marital_status  income\n",
       "0          y      3   34          other   28061\n",
       "1          n      2   37          other   28009\n",
       "2          n      2   29          other   27615\n",
       "3          y      2   33          other   27287\n",
       "4          y      2   39          other   26954\n",
       "..       ...    ...  ...            ...     ...\n",
       "241        y      0   51        married   46810\n",
       "242        y      0   55        married   45710\n",
       "243        y      0   51        married   44896\n",
       "244        y      0   54        married   44302\n",
       "245        y      1   60        married   54096\n",
       "\n",
       "[246 rows x 5 columns]"
      ]
     },
     "execution_count": 10,
     "metadata": {},
     "output_type": "execute_result"
    }
   ],
   "source": [
    "X"
   ]
  },
  {
   "cell_type": "code",
   "execution_count": 27,
   "id": "69e74652-5409-4161-b31a-f20440de8a07",
   "metadata": {},
   "outputs": [
    {
     "name": "stdout",
     "output_type": "stream",
     "text": [
      "<class 'pandas.core.series.Series'>\n",
      "Index: 172 entries, 70 to 90\n",
      "Series name: risk\n",
      "Non-Null Count  Dtype   \n",
      "--------------  -----   \n",
      "172 non-null    category\n",
      "dtypes: category(1)\n",
      "memory usage: 1.6 KB\n",
      "None\n"
     ]
    }
   ],
   "source": [
    "##----------------------------------\n",
    "## Split the Data into Training nd Test\n",
    "## test size=0.3 indictaes 70% training and\n",
    "## 30% test data\n",
    "##-----------------------------------\n",
    "from sklearn.model_selection import train_test_split\n",
    "X_train, X_test, y_train, y_test = train_test_split(X,\n",
    "                                            Y,\n",
    "                                            test_size = 0.3,\n",
    "                                            random_state = 500)\n",
    "print(y_train.info())\n",
    "## All data processing should be done after split to prevent leakage"
   ]
  },
  {
   "cell_type": "code",
   "execution_count": 29,
   "id": "01924609-68e5-4eee-acff-f81851fd2a32",
   "metadata": {},
   "outputs": [
    {
     "data": {
      "text/html": [
       "<div>\n",
       "<style scoped>\n",
       "    .dataframe tbody tr th:only-of-type {\n",
       "        vertical-align: middle;\n",
       "    }\n",
       "\n",
       "    .dataframe tbody tr th {\n",
       "        vertical-align: top;\n",
       "    }\n",
       "\n",
       "    .dataframe thead th {\n",
       "        text-align: right;\n",
       "    }\n",
       "</style>\n",
       "<table border=\"1\" class=\"dataframe\">\n",
       "  <thead>\n",
       "    <tr style=\"text-align: right;\">\n",
       "      <th></th>\n",
       "      <th>mortgage</th>\n",
       "      <th>loans</th>\n",
       "      <th>age</th>\n",
       "      <th>marital_status</th>\n",
       "      <th>income</th>\n",
       "    </tr>\n",
       "  </thead>\n",
       "  <tbody>\n",
       "    <tr>\n",
       "      <th>70</th>\n",
       "      <td>y</td>\n",
       "      <td>2</td>\n",
       "      <td>25</td>\n",
       "      <td>other</td>\n",
       "      <td>23580</td>\n",
       "    </tr>\n",
       "    <tr>\n",
       "      <th>162</th>\n",
       "      <td>n</td>\n",
       "      <td>1</td>\n",
       "      <td>66</td>\n",
       "      <td>married</td>\n",
       "      <td>42120</td>\n",
       "    </tr>\n",
       "    <tr>\n",
       "      <th>163</th>\n",
       "      <td>y</td>\n",
       "      <td>1</td>\n",
       "      <td>56</td>\n",
       "      <td>married</td>\n",
       "      <td>51684</td>\n",
       "    </tr>\n",
       "  </tbody>\n",
       "</table>\n",
       "</div>"
      ],
      "text/plain": [
       "    mortgage  loans  age marital_status  income\n",
       "70         y      2   25          other   23580\n",
       "162        n      1   66        married   42120\n",
       "163        y      1   56        married   51684"
      ]
     },
     "execution_count": 29,
     "metadata": {},
     "output_type": "execute_result"
    }
   ],
   "source": [
    "X_train.head(3)"
   ]
  },
  {
   "cell_type": "code",
   "execution_count": 31,
   "id": "72d0a12a-0e6d-40b2-9d1c-76ea73b9f8aa",
   "metadata": {},
   "outputs": [],
   "source": [
    "##---------------------------------------\n",
    "## Pre-process X-vars\n",
    "##---------------------------------------\n",
    "\n",
    "##---------------------------------------\n",
    "## 1. Identify and dummy code (one-hot encoding) the categorical column\n",
    "##---------------------------------------\n",
    "# List of categorical columns\n",
    "categorical_columns = ['mortgage','marital_status']\n",
    "X_train_encoded = pd.get_dummies(X_train,columns = categorical_columns, drop_first = True, dtype=int)\n",
    "X_test_encoded = pd.get_dummies(X_test,columns = categorical_columns, drop_first = True, dtype=int)"
   ]
  },
  {
   "cell_type": "code",
   "execution_count": 33,
   "id": "b7d8ccbc-f3d3-4ba9-9bc3-5003b9e786ba",
   "metadata": {},
   "outputs": [
    {
     "name": "stdout",
     "output_type": "stream",
     "text": [
      "<class 'pandas.core.frame.DataFrame'>\n",
      "Index: 172 entries, 70 to 90\n",
      "Data columns (total 6 columns):\n",
      " #   Column                 Non-Null Count  Dtype\n",
      "---  ------                 --------------  -----\n",
      " 0   loans                  172 non-null    int64\n",
      " 1   age                    172 non-null    int64\n",
      " 2   income                 172 non-null    int64\n",
      " 3   mortgage_y             172 non-null    int32\n",
      " 4   marital_status_other   172 non-null    int32\n",
      " 5   marital_status_single  172 non-null    int32\n",
      "dtypes: int32(3), int64(3)\n",
      "memory usage: 7.4 KB\n"
     ]
    }
   ],
   "source": [
    "X_train_encoded.info()"
   ]
  },
  {
   "cell_type": "code",
   "execution_count": 39,
   "id": "287a8d09-43b9-4295-b233-a5ea45e3c9ca",
   "metadata": {},
   "outputs": [
    {
     "data": {
      "text/html": [
       "<div>\n",
       "<style scoped>\n",
       "    .dataframe tbody tr th:only-of-type {\n",
       "        vertical-align: middle;\n",
       "    }\n",
       "\n",
       "    .dataframe tbody tr th {\n",
       "        vertical-align: top;\n",
       "    }\n",
       "\n",
       "    .dataframe thead th {\n",
       "        text-align: right;\n",
       "    }\n",
       "</style>\n",
       "<table border=\"1\" class=\"dataframe\">\n",
       "  <thead>\n",
       "    <tr style=\"text-align: right;\">\n",
       "      <th></th>\n",
       "      <th>loans</th>\n",
       "      <th>age</th>\n",
       "      <th>income</th>\n",
       "      <th>mortgage_y</th>\n",
       "      <th>marital_status_other</th>\n",
       "      <th>marital_status_single</th>\n",
       "    </tr>\n",
       "  </thead>\n",
       "  <tbody>\n",
       "    <tr>\n",
       "      <th>70</th>\n",
       "      <td>2</td>\n",
       "      <td>25</td>\n",
       "      <td>23580</td>\n",
       "      <td>1</td>\n",
       "      <td>1</td>\n",
       "      <td>0</td>\n",
       "    </tr>\n",
       "    <tr>\n",
       "      <th>162</th>\n",
       "      <td>1</td>\n",
       "      <td>66</td>\n",
       "      <td>42120</td>\n",
       "      <td>0</td>\n",
       "      <td>0</td>\n",
       "      <td>0</td>\n",
       "    </tr>\n",
       "    <tr>\n",
       "      <th>163</th>\n",
       "      <td>1</td>\n",
       "      <td>56</td>\n",
       "      <td>51684</td>\n",
       "      <td>1</td>\n",
       "      <td>0</td>\n",
       "      <td>0</td>\n",
       "    </tr>\n",
       "    <tr>\n",
       "      <th>236</th>\n",
       "      <td>0</td>\n",
       "      <td>44</td>\n",
       "      <td>50793</td>\n",
       "      <td>1</td>\n",
       "      <td>0</td>\n",
       "      <td>0</td>\n",
       "    </tr>\n",
       "    <tr>\n",
       "      <th>1</th>\n",
       "      <td>2</td>\n",
       "      <td>37</td>\n",
       "      <td>28009</td>\n",
       "      <td>0</td>\n",
       "      <td>1</td>\n",
       "      <td>0</td>\n",
       "    </tr>\n",
       "  </tbody>\n",
       "</table>\n",
       "</div>"
      ],
      "text/plain": [
       "     loans  age  income  mortgage_y  marital_status_other  \\\n",
       "70       2   25   23580           1                     1   \n",
       "162      1   66   42120           0                     0   \n",
       "163      1   56   51684           1                     0   \n",
       "236      0   44   50793           1                     0   \n",
       "1        2   37   28009           0                     1   \n",
       "\n",
       "     marital_status_single  \n",
       "70                       0  \n",
       "162                      0  \n",
       "163                      0  \n",
       "236                      0  \n",
       "1                        0  "
      ]
     },
     "execution_count": 39,
     "metadata": {},
     "output_type": "execute_result"
    }
   ],
   "source": [
    "X_train_encoded.head()"
   ]
  },
  {
   "cell_type": "code",
   "execution_count": 41,
   "id": "2aab042a-3b2f-4c19-888d-972936477125",
   "metadata": {},
   "outputs": [
    {
     "data": {
      "image/png": "[encoded data removed]",
      "text/plain": [
       "<Figure size 800x600 with 2 Axes>"
      ]
     },
     "metadata": {},
     "output_type": "display_data"
    }
   ],
   "source": [
    "##-----------------------------------------\n",
    "## 2. Identify and remove highly correlated columns\n",
    "##-----------------------------------------\n",
    "import matplotlib.pyplot as plt\n",
    "import seaborn as sns\n",
    "corr_matrix = X_train_encoded.corr(numeric_only = True)\n",
    "plt.figure(figsize=(8,6))\n",
    "sns.heatmap(corr_matrix, annot=True, cmap='coolwarm', linewidth = 0.5)\n",
    "plt.title('Correlation Heatmap')\n",
    "plt.show()"
   ]
  },
  {
   "cell_type": "code",
   "execution_count": 43,
   "id": "9631774e-53e4-4164-bb28-7846972a7073",
   "metadata": {},
   "outputs": [
    {
     "data": {
      "text/html": [
       "<div>\n",
       "<style scoped>\n",
       "    .dataframe tbody tr th:only-of-type {\n",
       "        vertical-align: middle;\n",
       "    }\n",
       "\n",
       "    .dataframe tbody tr th {\n",
       "        vertical-align: top;\n",
       "    }\n",
       "\n",
       "    .dataframe thead th {\n",
       "        text-align: right;\n",
       "    }\n",
       "</style>\n",
       "<table border=\"1\" class=\"dataframe\">\n",
       "  <thead>\n",
       "    <tr style=\"text-align: right;\">\n",
       "      <th></th>\n",
       "      <th>loans</th>\n",
       "      <th>age</th>\n",
       "      <th>income</th>\n",
       "      <th>mortgage_y</th>\n",
       "      <th>marital_status_other</th>\n",
       "      <th>marital_status_single</th>\n",
       "    </tr>\n",
       "  </thead>\n",
       "  <tbody>\n",
       "    <tr>\n",
       "      <th>loans</th>\n",
       "      <td>1.000000</td>\n",
       "      <td>-0.203874</td>\n",
       "      <td>-0.532394</td>\n",
       "      <td>-0.205079</td>\n",
       "      <td>0.640863</td>\n",
       "      <td>-0.105475</td>\n",
       "    </tr>\n",
       "    <tr>\n",
       "      <th>age</th>\n",
       "      <td>-0.203874</td>\n",
       "      <td>1.000000</td>\n",
       "      <td>0.409710</td>\n",
       "      <td>-0.017794</td>\n",
       "      <td>-0.166173</td>\n",
       "      <td>-0.081907</td>\n",
       "    </tr>\n",
       "    <tr>\n",
       "      <th>income</th>\n",
       "      <td>-0.532394</td>\n",
       "      <td>0.409710</td>\n",
       "      <td>1.000000</td>\n",
       "      <td>0.100793</td>\n",
       "      <td>-0.350348</td>\n",
       "      <td>0.017211</td>\n",
       "    </tr>\n",
       "    <tr>\n",
       "      <th>mortgage_y</th>\n",
       "      <td>-0.205079</td>\n",
       "      <td>-0.017794</td>\n",
       "      <td>0.100793</td>\n",
       "      <td>1.000000</td>\n",
       "      <td>-0.205966</td>\n",
       "      <td>0.359534</td>\n",
       "    </tr>\n",
       "    <tr>\n",
       "      <th>marital_status_other</th>\n",
       "      <td>0.640863</td>\n",
       "      <td>-0.166173</td>\n",
       "      <td>-0.350348</td>\n",
       "      <td>-0.205966</td>\n",
       "      <td>1.000000</td>\n",
       "      <td>-0.459697</td>\n",
       "    </tr>\n",
       "    <tr>\n",
       "      <th>marital_status_single</th>\n",
       "      <td>-0.105475</td>\n",
       "      <td>-0.081907</td>\n",
       "      <td>0.017211</td>\n",
       "      <td>0.359534</td>\n",
       "      <td>-0.459697</td>\n",
       "      <td>1.000000</td>\n",
       "    </tr>\n",
       "  </tbody>\n",
       "</table>\n",
       "</div>"
      ],
      "text/plain": [
       "                          loans       age    income  mortgage_y  \\\n",
       "loans                  1.000000 -0.203874 -0.532394   -0.205079   \n",
       "age                   -0.203874  1.000000  0.409710   -0.017794   \n",
       "income                -0.532394  0.409710  1.000000    0.100793   \n",
       "mortgage_y            -0.205079 -0.017794  0.100793    1.000000   \n",
       "marital_status_other   0.640863 -0.166173 -0.350348   -0.205966   \n",
       "marital_status_single -0.105475 -0.081907  0.017211    0.359534   \n",
       "\n",
       "                       marital_status_other  marital_status_single  \n",
       "loans                              0.640863              -0.105475  \n",
       "age                               -0.166173              -0.081907  \n",
       "income                            -0.350348               0.017211  \n",
       "mortgage_y                        -0.205966               0.359534  \n",
       "marital_status_other               1.000000              -0.459697  \n",
       "marital_status_single             -0.459697               1.000000  "
      ]
     },
     "execution_count": 43,
     "metadata": {},
     "output_type": "execute_result"
    }
   ],
   "source": [
    "corr_matrix"
   ]
  },
  {
   "cell_type": "code",
   "execution_count": 45,
   "id": "c705578d-eda0-4295-9313-ba60245fbd60",
   "metadata": {},
   "outputs": [
    {
     "name": "stdout",
     "output_type": "stream",
     "text": [
      "Optimization terminated successfully.\n",
      "         Current function value: 0.152237\n",
      "         Iterations 9\n",
      "                           Results: Logit\n",
      "=====================================================================\n",
      "Model:                Logit             Method:            MLE       \n",
      "Dependent Variable:   risk              Pseudo R-squared:  0.780     \n",
      "Date:                 2024-10-07 09:03  AIC:               66.3695   \n",
      "No. Observations:     172               BIC:               88.4020   \n",
      "Df Model:             6                 Log-Likelihood:    -26.185   \n",
      "Df Residuals:         165               LL-Null:           -119.21   \n",
      "Converged:            1.0000            LLR p-value:       1.7591e-37\n",
      "No. Iterations:       9.0000            Scale:             1.0000    \n",
      "---------------------------------------------------------------------\n",
      "                       Coef.  Std.Err.    z    P>|z|   [0.025  0.975]\n",
      "---------------------------------------------------------------------\n",
      "const                 19.6403   4.1681  4.7121 0.0000 11.4710 27.8095\n",
      "loans                 -2.6119   0.8260 -3.1622 0.0016 -4.2308 -0.9930\n",
      "age                   -0.1307   0.0412 -3.1731 0.0015 -0.2115 -0.0500\n",
      "income                -0.0004   0.0001 -4.7928 0.0000 -0.0006 -0.0002\n",
      "mortgage_y             2.2136   0.9480  2.3349 0.0195  0.3555  4.0718\n",
      "marital_status_other   6.1184   1.9205  3.1859 0.0014  2.3543  9.8826\n",
      "marital_status_single  3.1364   0.9450  3.3189 0.0009  1.2842  4.9886\n",
      "=====================================================================\n",
      "\n"
     ]
    }
   ],
   "source": [
    "##---------------------------------\n",
    "## Build the logit model\n",
    "##---------------------------------\n",
    "import statsmodels.api as sm\n",
    "## Constant is to be added when using the sm library\n",
    "X_train_encoded = sm.add_constant (X_train_encoded)\n",
    "# Call logistic regression with X and Y variables of the training data\n",
    "# Model is built with the taining data\n",
    "logit = sm.Logit(y_train, X_train_encoded)\n",
    "## Fir the model and display results\n",
    "logit_model = logit.fit()\n",
    "print(logit_model.summary2())"
   ]
  },
  {
   "cell_type": "code",
   "execution_count": 47,
   "id": "109a4dbb-b4a2-4fd4-9238-0e6ded3a74cb",
   "metadata": {},
   "outputs": [],
   "source": [
    "#Only significant X-vars are used to build the predictive model\n",
    "#All variables are significant"
   ]
  },
  {
   "cell_type": "code",
   "execution_count": 49,
   "id": "d18d3667-3ad7-440a-890d-8421ce4c06bb",
   "metadata": {},
   "outputs": [],
   "source": [
    "##---------------------------------\n",
    "## Apply model on test data\n",
    "##---------------------------------\n",
    "X_test_encoded = sm.add_constant(X_test_encoded)\n",
    "y_prob = logit_model.predict(X_test_encoded)\n",
    "# y_prob holds the probability values for each record in the test data"
   ]
  },
  {
   "cell_type": "code",
   "execution_count": 51,
   "id": "044e3fe6-2bf3-41ea-ad3c-09b986cfb808",
   "metadata": {},
   "outputs": [
    {
     "data": {
      "text/plain": [
       "61     0.999376\n",
       "124    0.097099\n",
       "220    0.003061\n",
       "224    0.002738\n",
       "55     0.984251\n",
       "         ...   \n",
       "66     0.999942\n",
       "154    0.018371\n",
       "80     0.999871\n",
       "28     0.998858\n",
       "230    0.954197\n",
       "Length: 74, dtype: float64"
      ]
     },
     "execution_count": 51,
     "metadata": {},
     "output_type": "execute_result"
    }
   ],
   "source": [
    "y_prob"
   ]
  },
  {
   "cell_type": "code",
   "execution_count": 53,
   "id": "901e1003-c715-4574-b28b-1185cb5ff0b2",
   "metadata": {},
   "outputs": [],
   "source": [
    "y_pred_df = pd.DataFrame({\"actual_Y\":y_test,\n",
    "                          \"predicted_prob\":y_prob})"
   ]
  },
  {
   "cell_type": "code",
   "execution_count": 55,
   "id": "a9642cd6-1f16-46fd-8bd5-3fbc921cd45f",
   "metadata": {},
   "outputs": [
    {
     "name": "stdout",
     "output_type": "stream",
     "text": [
      "    actual_Y  predicted_prob\n",
      "61         1        0.999376\n",
      "124        0        0.097099\n",
      "220        0        0.003061\n",
      "224        0        0.002738\n",
      "55         1        0.984251\n"
     ]
    }
   ],
   "source": [
    "print(y_pred_df.head())"
   ]
  },
  {
   "cell_type": "code",
   "execution_count": 57,
   "id": "fc0eaad2-dc4a-4061-a839-9f9f05fc6960",
   "metadata": {},
   "outputs": [
    {
     "name": "stdout",
     "output_type": "stream",
     "text": [
      "    actual_Y  predicted_prob  predicted_Y\n",
      "61         1        0.999376            1\n",
      "124        0        0.097099            0\n",
      "220        0        0.003061            0\n",
      "224        0        0.002738            0\n",
      "55         1        0.984251            1\n"
     ]
    }
   ],
   "source": [
    "y_pred_df['predicted_Y'] = y_pred_df.predicted_prob.map(\n",
    "    lambda x: 1 if x>=0.5 else 0)\n",
    "print(y_pred_df.head())"
   ]
  },
  {
   "cell_type": "code",
   "execution_count": 59,
   "id": "3e3d2b36-a00f-4092-8c65-8455bea073e0",
   "metadata": {},
   "outputs": [
    {
     "name": "stdout",
     "output_type": "stream",
     "text": [
      "[[36  2]\n",
      " [ 3 33]]\n"
     ]
    }
   ],
   "source": [
    "from sklearn.metrics import confusion_matrix\n",
    "cm = confusion_matrix(y_pred_df['actual_Y'],y_pred_df['predicted_Y'])\n",
    "print(cm)"
   ]
  },
  {
   "cell_type": "code",
   "execution_count": 61,
   "id": "e457b9d1-1348-4259-8e3a-b2798d525814",
   "metadata": {},
   "outputs": [
    {
     "data": {
      "image/png": "[encoded data removed]",
      "text/plain": [
       "<Figure size 300x300 with 1 Axes>"
      ]
     },
     "metadata": {},
     "output_type": "display_data"
    }
   ],
   "source": [
    "plt.figure(figsize= (3,3))\n",
    "sns.heatmap(cm,annot = True, fmt = 'd', cmap = 'Blues', cbar =False,\n",
    "            xticklabels = ['Predicted 0', 'Predicted 1'],\n",
    "            yticklabels = ['Actual 0', 'Actual 1'])\n",
    "plt.title('Confusion Matrix')\n",
    "plt.ylabel('Actual')\n",
    "plt.xlabel('Predicted')\n",
    "plt.show()"
   ]
  },
  {
   "cell_type": "code",
   "execution_count": 63,
   "id": "cd31b4e3-2c85-44d9-a340-c440de5e24cc",
   "metadata": {},
   "outputs": [
    {
     "name": "stdout",
     "output_type": "stream",
     "text": [
      "Sensitivity (Recall):0.92\n",
      "Accuracy: 0.93\n"
     ]
    }
   ],
   "source": [
    "from sklearn.metrics import accuracy_score, recall_score, precision_score\n",
    "sensitivity = recall_score(y_pred_df['actual_Y'],y_pred_df['predicted_Y'])\n",
    "accuracy = accuracy_score(y_pred_df['actual_Y'],y_pred_df['predicted_Y'])\n",
    "\n",
    "print(f\"Sensitivity (Recall):{sensitivity:.2f}\")\n",
    "print(f\"Accuracy: {accuracy:.2f}\")"
   ]
  },
  {
   "cell_type": "code",
   "execution_count": 65,
   "id": "2717aa0f-b591-4fc3-a4d6-9f44aa121ece",
   "metadata": {},
   "outputs": [
    {
     "name": "stdout",
     "output_type": "stream",
     "text": [
      "\n",
      "Classification Report:\n",
      "              precision    recall  f1-score   support\n",
      "\n",
      "           0       0.92      0.95      0.94        38\n",
      "           1       0.94      0.92      0.93        36\n",
      "\n",
      "    accuracy                           0.93        74\n",
      "   macro avg       0.93      0.93      0.93        74\n",
      "weighted avg       0.93      0.93      0.93        74\n",
      "\n"
     ]
    }
   ],
   "source": [
    "from sklearn.metrics import confusion_matrix, classification_report\n",
    "print(\"\\nClassification Report:\")\n",
    "print(classification_report(y_pred_df['actual_Y'],y_pred_df['predicted_Y']))"
   ]
  },
  {
   "cell_type": "markdown",
   "id": "eb466b66-7114-4178-b999-aa44ea4d8b0e",
   "metadata": {},
   "source": [
    "### Implications/Reccomendations\n",
    "\n",
    "93% Accuracy 92% sensitivity 95% specificity\n",
    "\n",
    "92% credit rarting => Accept the model at this threshold of 0.5\n",
    "\n",
    "Good model -> good accuracy, good sensitivity"
   ]
  },
  {
   "cell_type": "code",
   "execution_count": 70,
   "id": "a5bdf404-b901-425b-92e7-c24baaa2fa69",
   "metadata": {},
   "outputs": [
    {
     "data": {
      "image/png": "[encoded data removed]",
      "text/plain": [
       "<Figure size 800x600 with 1 Axes>"
      ]
     },
     "metadata": {},
     "output_type": "display_data"
    }
   ],
   "source": [
    "# Plot ROC curve\n",
    "import numpy as np\n",
    "import matplotlib.pyplot as plt\n",
    "from sklearn.metrics import roc_curve,auc\n",
    "# Compute ROC curve\n",
    "fpr, tpr, thresholds = roc_curve(y_pred_df['actual_Y'], y_pred_df['predicted_prob'])\n",
    "roc_auc = auc(fpr, tpr)\n",
    "# Plotting the ROC curve\n",
    "plt.figure(figsize=(8, 6))\n",
    "plt.plot(fpr, tpr, color='blue', lw=2, label='ROC curve (area = {:.2f})'.format(roc_auc))\n",
    "plt.plot([0, 1], [0, 1], color='red', linestyle='--')  # Diagonal line\n",
    "plt.xlim([0.0, 1.0])\n",
    "plt.ylim([0.0, 1.05])\n",
    "plt.xlabel('False Positive Rate')\n",
    "plt.ylabel('True Positive Rate')\n",
    "plt.title('Receiver Operating Characteristic (ROC) Curve')\n",
    "plt.legend(loc='lower right')\n",
    "plt.show()"
   ]
  },
  {
   "cell_type": "code",
   "execution_count": null,
   "id": "89a13a13-b96d-42f8-9651-7200dc522463",
   "metadata": {},
   "outputs": [],
   "source": []
  }
 ],
 "metadata": {
  "kernelspec": {
   "display_name": "Python 3 (ipykernel)",
   "language": "python",
   "name": "python3"
  },
  "language_info": {
   "codemirror_mode": {
    "name": "ipython",
    "version": 3
   },
   "file_extension": ".py",
   "mimetype": "text/x-python",
   "name": "python",
   "nbconvert_exporter": "python",
   "pygments_lexer": "ipython3",
   "version": "3.12.7"
  }
 },
 "nbformat": 4,
 "nbformat_minor": 5
}
